{
 "cells": [
  {
   "cell_type": "markdown",
   "id": "3c5cc672",
   "metadata": {},
   "source": [
    "# Descriptive Statistics"
   ]
  },
  {
   "cell_type": "markdown",
   "id": "b021a0f0",
   "metadata": {},
   "source": [
    "## Measure of Central Tendency"
   ]
  },
  {
   "cell_type": "markdown",
   "id": "08eda72c",
   "metadata": {},
   "source": [
    "Central tendency mengacu pada gagasan bahwa ada satu bilangan yang paling baik untuk meringkas seluruh rangkaian pengukuran.\n",
    "\n",
    "Atau bisa dikatakan pengukuran suatu nilai dimana dapat digunakan presentasikan nilai sentral dari data set\n",
    "\n",
    "* Mean \n",
    "* Median \n",
    "* Mode"
   ]
  },
  {
   "cell_type": "markdown",
   "id": "b6353a07",
   "metadata": {},
   "source": [
    "### Mean / Average"
   ]
  },
  {
   "cell_type": "markdown",
   "id": "9a9069fa",
   "metadata": {},
   "source": [
    "Mean atau Averageadalah angka tunggal yang dapat memperkirakan nilai seluruh kumpulan data. Mean hanyalah rata-rata dan dianggap sebagai ukuran tendensi sentral yang paling andal untuk membuat asumsi tentang suatu populasi dari satu sampel.\n",
    "\n",
    "Rata-rata dihitung dengan jumlah semua nilai, dibagi dengan jumlah nilai.\n",
    "\n",
    "Contoh : menghitung rata-rata dari 8 bilangan"
   ]
  },
  {
   "cell_type": "markdown",
   "id": "2dcc6eee",
   "metadata": {},
   "source": [
    "<img src=\"https://i.ibb.co/smXc7sm/mean.png\" width=\"400\" align=\"center\">"
   ]
  },
  {
   "cell_type": "markdown",
   "id": "6f91e580",
   "metadata": {},
   "source": [
    "Jika kita berbicara tentang populasi, maka lambang Mean yang biasa digunakan adalah **μ** \n",
    "\n",
    "sedangkan pada sampel adalah **x̄**."
   ]
  },
  {
   "cell_type": "markdown",
   "id": "9aaeb1fe",
   "metadata": {},
   "source": [
    "### Median"
   ]
  },
  {
   "cell_type": "markdown",
   "id": "beaa6b23",
   "metadata": {},
   "source": [
    "Median adalah nilai yang membagi data dalam 2 bagian yang sama yaitu jumlah suku di sisi kanannya sama dengan jumlah suku di sisi kirinya saat data disusun dalam urutan naik atau turun. Median adalah nilai \"tengah\" atau titik tengah dalam data kita dan juga disebut \"persentil ke-50\".\n",
    "\n",
    "Median adalah nilai tengah, jika jumlah nilai ganjil\n",
    "\n",
    "Median adalah rata-rata dari 2 nilai tengah, jika jumlah nilai genap. Contoh :"
   ]
  },
  {
   "cell_type": "markdown",
   "id": "32f17d97",
   "metadata": {},
   "source": [
    "12 + 24 + 41 + 51 + 67 + 67 + 85 + 99 = 59 "
   ]
  },
  {
   "cell_type": "markdown",
   "id": "76560101",
   "metadata": {},
   "source": [
    "Mediannya adalah 59 yang akan membagi kumpulan angka menjadi dua bagian yang sama. Karena ada bilangan genap dalam himpunan, jawabannya adalah rata-rata dari bilangan tengah 51 dan 67."
   ]
  },
  {
   "cell_type": "markdown",
   "id": "99edb7c4",
   "metadata": {},
   "source": [
    "Adapun sifat dari nilai median antara lain:\n",
    "\n",
    "Tidak dipengaruhi oleh nilai ekstrim. Kondisi dimana nilai ekstrim ditemukan maka penggunaan median sebagai penunjuk lokasi pusat data lebih representative.\n",
    "\n",
    "Dapat digunakan untuk data yang bersifat ordinal. Data ordinal merupakan data yang menunjukkan adanya level. Pada data ordinal nilai rata-rata tidak dapat digunakan untuk menggambarkan pemusatan data karena cenerung akan menghasilkan nilai kontinyu (bukan diskrit) yang menyulitkan untuk dilakukan interpretasi."
   ]
  },
  {
   "cell_type": "markdown",
   "id": "f2bf6a32",
   "metadata": {},
   "source": [
    "### Mode"
   ]
  },
  {
   "cell_type": "markdown",
   "id": "322f0abd",
   "metadata": {},
   "source": [
    "Modus adalah nilai atau kategori yang paling sering muncul dalam data. Oleh karena itu, set data tidak memiliki mode, jika tidak ada nomor yang diulangi atau jika tidak ada kategori yang sama. Ada kemungkinan set data memiliki lebih dari satu mode."
   ]
  },
  {
   "cell_type": "markdown",
   "id": "1ee12a8d",
   "metadata": {},
   "source": [
    "12 , 24, 41, 51, 67, 67, 85 , 99"
   ]
  },
  {
   "cell_type": "markdown",
   "id": "689195b8",
   "metadata": {},
   "source": [
    "Dalam kumpulan data ini, mode-nya adalah 67 karena memiliki frekuensi lebih dari nilai lainnya, yaitu dua kali."
   ]
  },
  {
   "cell_type": "markdown",
   "id": "67d3b65f",
   "metadata": {},
   "source": [
    "## Measure of Spread / Dispersion / Variation"
   ]
  },
  {
   "cell_type": "markdown",
   "id": "25a8871e",
   "metadata": {},
   "source": [
    "Measure of Spread mengacu pada gagasan variabilitas dalam data kita. Measure of Spread juga digunakan untuk mengukur seberapa \"bagus\" mean merepresentasikan kumpulan data (How far away data from the center) atau memberi tahu kita tentang seberapa luas kumpulan data.\n",
    "\n",
    "Beberapa ukuran dasar spread yang digunakan dalam statistik. Yang paling umum adalah : \n",
    "\n",
    "1. Standard Deviation \n",
    "2. Variance \n",
    "3. Range \n",
    "4. Quartil "
   ]
  },
  {
   "cell_type": "markdown",
   "id": "2e4062bc",
   "metadata": {},
   "source": [
    "### Standard Deviation"
   ]
  },
  {
   "cell_type": "markdown",
   "id": "e4ac9221",
   "metadata": {},
   "source": [
    "Standard deviation/Simpangan baku adalah pengukuran jarak rata-rata antara setiap besaran dan mean. Artinya, bagaimana data disebarkan/seberapa tersebar data dari mean. \n",
    "- Standar deviasi yang rendah menunjukkan bahwa titik data cenderung mendekati rata-rata kumpulan data\n",
    "- Standar deviasi yang tinggi menunjukkan bahwa titik data tersebar di nilai yang lebih luas."
   ]
  },
  {
   "cell_type": "markdown",
   "id": "cc684c9c",
   "metadata": {},
   "source": [
    "Standar deviasi untuk sampel :\n",
    "<img src=\"https://i.ibb.co/gmmhFxS/SDPopulasi1.png\" width=\"400\" align=\"center\">\n",
    "Dimana x̅ adalah mean dari sample."
   ]
  },
  {
   "cell_type": "markdown",
   "id": "4625f4d2",
   "metadata": {},
   "source": [
    "Standar deviasi untuk populasi :\n",
    "<img src=\"https://i.ibb.co/L5Fx5L9/SDSample.png\" width=\"400\" align=\"center\">"
   ]
  },
  {
   "cell_type": "markdown",
   "id": "15cf7ca1",
   "metadata": {},
   "source": [
    "Dimana µ adalah mean dari populasi."
   ]
  },
  {
   "cell_type": "markdown",
   "id": "9ca544ed",
   "metadata": {},
   "source": [
    "jika kita menggunakan kumpulan data sebelumnya kita gunakan dalam mean, dan mengganti nilai dalam rumus sampel yaitu sebagai berikut :\n",
    "<img src=\"https://i.ibb.co/JzQ8Xy7/Mean-Dev-Bagi-Mean-Abs.png\" width=\"700\" align=\"center\">\n",
    "\n",
    "Dan jawabannya adalah 23.75."
   ]
  },
  {
   "cell_type": "markdown",
   "id": "8f0c84db",
   "metadata": {},
   "source": [
    "### Variance"
   ]
  },
  {
   "cell_type": "markdown",
   "id": "d2a71633",
   "metadata": {},
   "source": [
    "Variance /Varians adalah kuadrat jarak rata-rata antara setiap kuantitas dan mean. Variance adalah kuadrat dari standar deviasi. Varians dihitung dengan mencari selisih antara setiap titik data dan mean, mengkuadratkannya, menjumlahkannya, dan kemudian mengambil rata-rata dari angka-angka itu."
   ]
  },
  {
   "cell_type": "markdown",
   "id": "be5e7e88",
   "metadata": {},
   "source": [
    "**Variance** = ( S.D.)2\n",
    "\n",
    "Dan jawabannya adalah 877.34."
   ]
  },
  {
   "cell_type": "markdown",
   "id": "6bdb6fb2",
   "metadata": {},
   "source": [
    "### Range"
   ]
  },
  {
   "cell_type": "markdown",
   "id": "d8512834",
   "metadata": {},
   "source": [
    "Range /Rentang adalah salah satu teknik statistik deskriptif yang paling sederhana. Range adalah perbedaan antara nilai terendah dan tertinggi."
   ]
  },
  {
   "cell_type": "markdown",
   "id": "d5021c99",
   "metadata": {},
   "source": [
    "12, 24, 51, 67, 67, 85, 99"
   ]
  },
  {
   "cell_type": "markdown",
   "id": "dd77bbe0",
   "metadata": {},
   "source": [
    "Range adalah 99–12 = 87\n",
    "\n",
    "Kelemahan dalam range ini hanya meryertakan dua nilai saja dalam proses pengukuran"
   ]
  },
  {
   "cell_type": "markdown",
   "id": "26aec286",
   "metadata": {},
   "source": [
    "### Percentile"
   ]
  },
  {
   "cell_type": "markdown",
   "id": "4855bd83",
   "metadata": {},
   "source": [
    "Percentile/Persentil adalah cara untuk merepresentasikan posisi suatu nilai dalam kumpulan data. Untuk menghitung persentil, nilai dalam kumpulan data harus selalu dalam urutan ascending/menaik."
   ]
  },
  {
   "cell_type": "markdown",
   "id": "67899e1a",
   "metadata": {},
   "source": [
    "12, 24, 51, 67, 67, 85, 99"
   ]
  },
  {
   "cell_type": "markdown",
   "id": "cc1d7af5",
   "metadata": {},
   "source": [
    "Median-nya adalah 59 (mean dari 51 dan 67) memiliki 4 nilai yang lebih kecil dari dirinya sendiri. Dapat juga dikatakan sebagai: Dalam kumpulan data, 59 adalah persentil ke-50 karena 50% dari total suku kurang dari 59. Secara umum, jika k adalah persentil ke-n, itu menyiratkan bahwa n% dari total suku kurang dari k."
   ]
  },
  {
   "cell_type": "markdown",
   "id": "41f5241c",
   "metadata": {},
   "source": [
    "### Quartiles\n",
    "Dalam statistik dan probabilitas, quartiles adalah nilai yang membagi data kita menjadi beberapa quarters jika data diurutkan dalam urutan ascending/menaik."
   ]
  },
  {
   "cell_type": "markdown",
   "id": "d721a296",
   "metadata": {},
   "source": [
    "<img src=\"https://i.ibb.co/QvM3LBj/Quartile.gif\" width=\"700\" align=\"center\">"
   ]
  },
  {
   "cell_type": "markdown",
   "id": "a67f8948",
   "metadata": {},
   "source": [
    "Ada tiga nilai kuartil. \n",
    "- Kuartil pertama (Q1) adalah median dari separuh data atas. Nilai kuartil pertama berada pada 25 persentil. \n",
    "- Kuartil kedua (Q2) adalah median dari keseluruhan data. Kuartil kedua adalah 50 persentil \n",
    "- Kuartil Ketiga (Q3) adalah median dari separuh data bagian bawah. kuartil ketiga adalah 75 persentil. \n",
    "\n",
    "Contoh :\n",
    "**12,24,41,51,67,67,85,99,115**"
   ]
  },
  {
   "cell_type": "markdown",
   "id": "4846b93a",
   "metadata": {},
   "source": [
    "Jadi,\n",
    "* Q2 = 67: adalah 50 percentile of the whole data dan median.\n",
    "* Q1 = 41: adalah 25 percentile of the data.\n",
    "* Q3 = 85: adalah 75 percentile of the date.\n",
    "* Interquartile range (IQR) = Q3 - Q1 = 85 - 41 = 44"
   ]
  },
  {
   "cell_type": "markdown",
   "id": "dafbc430",
   "metadata": {},
   "source": [
    "## Skewness"
   ]
  },
  {
   "cell_type": "markdown",
   "id": "19064556",
   "metadata": {},
   "source": [
    "Skewness adalah ukuran asimetri distribusi probabilitas dari real-valued random variable tentang meannya. Nilai kemiringan bisa positif atau negatif, atau undefined.\n",
    "\n",
    "Dalam distribusi normal sempurna, ekor di kedua sisi kurva adalah sama persis yang tepat satu sama lain.\n",
    "\n",
    "Ketika distribusi miring ke kiri, ekor di sisi kiri kurva lebih panjang daripada ekor di sisi kanan, dan mean lebih kecil dari mode. Situasi ini juga disebut negative skewness/kemiringan negatif.\n",
    "\n",
    "Jika distribusi miring ke kanan, ekor di sisi kanan kurva lebih panjang daripada ekor di sisi kiri, dan mean lebih besar daripada mode. Situasi ini juga disebut positive skewness/kemiringan positif."
   ]
  },
  {
   "cell_type": "markdown",
   "id": "dca79d5d",
   "metadata": {},
   "source": [
    "<img src=\"https://i.ibb.co/FHxhq5H/skweness.jpg\" width=\"700\" align=\"center\">"
   ]
  },
  {
   "cell_type": "markdown",
   "id": "b09b1344",
   "metadata": {},
   "source": [
    "Untuk menghitung skewness coefficient sample, ada dua metode:\n",
    "\n",
    "Pearson First Coefficient of Skewness (Mode skewness)"
   ]
  },
  {
   "cell_type": "markdown",
   "id": "e31c0f34",
   "metadata": {},
   "source": [
    "**Mean - Mode / Standard Deviation**"
   ]
  },
  {
   "cell_type": "markdown",
   "id": "5aaebd27",
   "metadata": {},
   "source": [
    "Pearson Second Coefficient of Skewness (Median skewness)"
   ]
  },
  {
   "cell_type": "markdown",
   "id": "de0f1343",
   "metadata": {},
   "source": [
    "**3 (Mean - Median) / Standard Deviation**"
   ]
  },
  {
   "cell_type": "markdown",
   "id": "d976f90c",
   "metadata": {},
   "source": [
    "### Interpretations"
   ]
  },
  {
   "cell_type": "markdown",
   "id": "cfd22b5b",
   "metadata": {},
   "source": [
    "- Arah kemiringan akan diberi tanda. Nol berarti tidak ada kemiringan sama sekali.\n",
    "- Nilai negatif berarti distribusinya negatively skewed. Nilai positif berarti distribusinya positively skewed.\n",
    "- Coefficient membandingkan distribusi sampel dengan distribusi normal. Semakin besar nilainya, semakin besar perbedaan distribusi dari distribusi normal."
   ]
  },
  {
   "cell_type": "markdown",
   "id": "3f6f549e",
   "metadata": {},
   "source": [
    "Contoh : Gunakan Pearson’s Coefficient 1 dan 2 untuk menemukan skewness data dengan karakteristik berikut\n",
    "\n",
    "* Mean = 50.\n",
    "* Median = 56.\n",
    "* Mode = 60.\n",
    "* Standard deviation = 8.5.\n",
    "\n",
    "Mean - Mode / SD \n",
    "50  - 60 / 8.9 \n",
    "\n",
    "- 1.17"
   ]
  },
  {
   "cell_type": "code",
   "execution_count": 1,
   "id": "a475287f",
   "metadata": {},
   "outputs": [
    {
     "data": {
      "text/plain": [
       "-1.1764705882352942"
      ]
     },
     "execution_count": 1,
     "metadata": {},
     "output_type": "execute_result"
    }
   ],
   "source": [
    "mean = 50 \n",
    "median = 56 \n",
    "mode = 60 \n",
    "sd = 8.5 \n",
    "p1stc =  (mean - mode ) / sd \n",
    "p1stc"
   ]
  },
  {
   "cell_type": "markdown",
   "id": "a8e7db15",
   "metadata": {},
   "source": [
    "Pearson’s First Coefficient of Skewness: -1.17.\n",
    "\n",
    "Pearson’s Second Coefficient of Skewness: -2.117.\n",
    "\n",
    "Catatan: Pearson’s first coefficient of skewness menggunakan mode. Oleh karena itu, jika frekuensi nilai sangat rendah maka tidak akan memberikan ukuran yang stabil dari tendensi sentral. Misalnya, mode di kedua kumpulan data ini adalah 9:\n",
    "\n",
    "1, 2, 3, 4, 4, 5, 6, 7, 8, 9.\n",
    "\n",
    "Di kumpulan data pertama, mode hanya muncul dua kali. Jadi, bukan ide yang baik untuk menggunakan Pearson’s First Coefficient of Skewness. Tapi di set kedua,\n",
    "\n",
    "1, 2, 3, 4, 4, 4, 4, 4, 4, 4, 4, 5, 6, 7, 8, 9, 10, 12, 12, 13.\n",
    "\n",
    "mode 4 muncul 8 kali. Oleh karena itu, Pearson’s Second Coefficient of Skewness kemungkinan akan memberi kita hasil yang masuk reasonable."
   ]
  },
  {
   "cell_type": "markdown",
   "id": "b73eee4d",
   "metadata": {},
   "source": [
    "## Kurtosis"
   ]
  },
  {
   "cell_type": "markdown",
   "id": "c1286786",
   "metadata": {},
   "source": [
    "Kurtosis adalah ukuran apakah data bersifat heavy-tailed (banyak outlier) atau light-tailed (kurang outlier) relatif terhadap distribusi normal."
   ]
  },
  {
   "cell_type": "markdown",
   "id": "8c71298c",
   "metadata": {},
   "source": [
    "<img src=\"https://i.ibb.co/MZDZ2Ck/kurtosis.jpg\" width=\"500\" align=\"center\">"
   ]
  },
  {
   "cell_type": "markdown",
   "id": "466a32e1",
   "metadata": {},
   "source": [
    "Ada tiga tipe dari Kurtosis:\n",
    "\n",
    "* Mesokurtic\n",
    "Mesokurtik adalah distribusi yang memiliki kurtosis serupa dengan kurtosis berdistribusi normal, yaitu nol.\n",
    "\n",
    "* Leptokurtic\n",
    "Adalah distribusi yang memiliki kurtosis lebih besar dari pada distribusi Mesokurtik. Ekor dari distribusi seperti itu tebal dan berat. Jika kurva suatu distribusi lebih memuncak daripada kurva Mesokurtik, maka hal itu disebut kurva Leptokurtik.\n",
    "\n",
    "* Platykurtic\n",
    "Adalah distribusi yang memiliki kurtosis lebih rendah dari distribusi Mesokurtik. Ekor distribusi tersebut lebih tipis. Jika kurva distribusi kurang memuncak daripada kurva Mesokurtik, itu disebut sebagai kurva Platykurtic.\n",
    "\n",
    "Perbedaan utama antara skewness dan kurtosis adalah skewness mengacu pada tingkat simetri, sedangkan kurtosis mengacu pada tingkat keberadaan pencilan dalam distribusi.\n",
    "\n",
    "## Correlation\n",
    "Korelasi adalah teknik statistik yang dapat menunjukkan apakah dan seberapa kuat variabel terkait/related."
   ]
  },
  {
   "cell_type": "markdown",
   "id": "3471de37",
   "metadata": {},
   "source": [
    "<img src=\"https://i.ibb.co/C842Qy9/Positif-Correlation.png\" width=\"500\" align=\"center\">"
   ]
  },
  {
   "cell_type": "markdown",
   "id": "a97a7047",
   "metadata": {},
   "source": [
    "Hasil utama korelasi disebut correlation coefficient (atau “r”). Correlation coefficient berkisar dari -1,0 hingga +1,0. Semakin dekat r ke +1 atau -1, semakin erat hubungan kedua variabel tersebut.\n",
    "\n",
    "Jika r mendekati 0, artinya tidak ada hubungan antar variabel. Jika r positif, berarti semakin besar satu variabel, variabel lainnya semakin besar. Jika r negatif berarti semakin besar satu variable, variabel yang lain akan semakin kecil (sering disebut korelasi “inverse”)."
   ]
  },
  {
   "cell_type": "markdown",
   "id": "77568a4d",
   "metadata": {},
   "source": [
    "-----"
   ]
  },
  {
   "cell_type": "markdown",
   "id": "9529a1e0",
   "metadata": {},
   "source": [
    "# Descriptive Statistic on Python"
   ]
  },
  {
   "cell_type": "markdown",
   "id": "229eb670",
   "metadata": {},
   "source": [
    "## Choosing Python Statistics Libraries"
   ]
  },
  {
   "cell_type": "markdown",
   "id": "a400cb0f",
   "metadata": {},
   "source": [
    "* Python’s statistics  adalah library Python bawaan untuk statistik deskriptif. Anda dapat menggunakannya jika kumpulan data Anda tidak terlalu besar atau jika Anda tidak dapat mengandalkan pengimporan pustaka lain.\n",
    "\n",
    "* NumPy adalah perpustakaan pihak ketiga untuk komputasi numerik, dioptimalkan untuk bekerja dengan array satu dan multi-dimensi. Tipe utamanya adalah tipe array yang disebutndarray. Pustaka ini berisi banyak rutinitas untuk analisis statistik.\n",
    "\n",
    "* SciPy adalah perpustakaan pihak ketiga untuk komputasi ilmiah berdasarkan NumPy. Ini menawarkan fungsionalitas tambahan dibandingkan dengan NumPy, termasukscipy.statsuntuk analisis statistik.\n",
    "\n",
    "* Pandas adalah perpustakaan pihak ketiga untuk komputasi numerik berdasarkan NumPy. Ini unggul dalam menangani data satu dimensi (1D) berlabel denganSeriesobjek dandatadua dimensi (2D) denganDataFrameobjek.\n",
    "\n",
    "* Matplotlib adalah perpustakaan pihak ketiga untuk visualisasi data. Ini bekerja dengan baik dalam kombinasi dengan NumPy, SciPy, dan Pandas."
   ]
  },
  {
   "cell_type": "markdown",
   "id": "0936cc35",
   "metadata": {},
   "source": [
    "## Calculating Descriptive Statistics"
   ]
  },
  {
   "cell_type": "markdown",
   "id": "4235c301",
   "metadata": {},
   "source": [
    "Import library yang diperlukan"
   ]
  },
  {
   "cell_type": "code",
   "execution_count": 2,
   "id": "6f37716c",
   "metadata": {},
   "outputs": [],
   "source": [
    "import math\n",
    "import statistics\n",
    "import numpy as np\n",
    "import scipy.stats\n",
    "import pandas as pd"
   ]
  },
  {
   "cell_type": "markdown",
   "id": "0f321d0e",
   "metadata": {},
   "source": [
    "Mulai dengan List Python yang berisi beberapa data numerik:"
   ]
  },
  {
   "cell_type": "code",
   "execution_count": 3,
   "id": "7c7a169a",
   "metadata": {},
   "outputs": [
    {
     "name": "stdout",
     "output_type": "stream",
     "text": [
      "[8.0, 1, 2.5, 4, 28.0]\n",
      "[8.0, 1, 2.5, nan, 4, 28.0]\n"
     ]
    }
   ],
   "source": [
    "x = [8.0, 1, 2.5, 4, 28.0]\n",
    "x_with_nan = [8.0, 1, 2.5, math.nan, 4, 28.0]\n",
    "print(x)\n",
    "print(x_with_nan)"
   ]
  },
  {
   "cell_type": "markdown",
   "id": "9ae95192",
   "metadata": {},
   "source": [
    "Sekarang, buat objek np.ndarray dan pd.Series yang sesuai dengan x dan x_with_nan:"
   ]
  },
  {
   "cell_type": "code",
   "execution_count": 4,
   "id": "78ce2ae9",
   "metadata": {},
   "outputs": [
    {
     "name": "stdout",
     "output_type": "stream",
     "text": [
      "[ 8.   1.   2.5  4.  28. ]\n"
     ]
    }
   ],
   "source": [
    "y, y_with_nan = np.array(x), np.array(x_with_nan)\n",
    "print(y)"
   ]
  },
  {
   "cell_type": "code",
   "execution_count": 5,
   "id": "2c057c7a",
   "metadata": {},
   "outputs": [
    {
     "name": "stdout",
     "output_type": "stream",
     "text": [
      "[ 8.   1.   2.5  nan  4.  28. ]\n"
     ]
    }
   ],
   "source": [
    "print(y_with_nan)"
   ]
  },
  {
   "cell_type": "code",
   "execution_count": 6,
   "id": "a032d656",
   "metadata": {},
   "outputs": [
    {
     "name": "stdout",
     "output_type": "stream",
     "text": [
      "0     8.0\n",
      "1     1.0\n",
      "2     2.5\n",
      "3     4.0\n",
      "4    28.0\n",
      "dtype: float64\n"
     ]
    }
   ],
   "source": [
    "z, z_with_nan = pd.Series(x), pd.Series(x_with_nan)\n",
    "print(z)"
   ]
  },
  {
   "cell_type": "code",
   "execution_count": 7,
   "id": "a9e7c5b9",
   "metadata": {},
   "outputs": [
    {
     "name": "stdout",
     "output_type": "stream",
     "text": [
      "0     8.0\n",
      "1     1.0\n",
      "2     2.5\n",
      "3     NaN\n",
      "4     4.0\n",
      "5    28.0\n",
      "dtype: float64\n"
     ]
    }
   ],
   "source": [
    "print(z_with_nan)"
   ]
  },
  {
   "cell_type": "markdown",
   "id": "4db7106c",
   "metadata": {},
   "source": [
    "Kita sekarang memiliki dua array NumPy (y dan y_with_nan) dan dua Series Pandas (z dan z_with_nan). Semua ini adalah sequences nilai 1D.\n",
    "\n",
    "Kita juga dapat menentukan label untuk setiap nilai di z dan z_with_nan."
   ]
  },
  {
   "cell_type": "markdown",
   "id": "53c3d7d0",
   "metadata": {},
   "source": [
    "## Measures of Central Tendency"
   ]
  },
  {
   "cell_type": "markdown",
   "id": "4f33c2d5",
   "metadata": {},
   "source": [
    "### Mean"
   ]
  },
  {
   "cell_type": "markdown",
   "id": "003a071d",
   "metadata": {},
   "source": [
    "Menghitung mean dengan pure Python menggunakan sum() dan len(), tanpa mengimpor pustaka lain:"
   ]
  },
  {
   "cell_type": "code",
   "execution_count": 8,
   "id": "0d32c3a3",
   "metadata": {},
   "outputs": [],
   "source": [
    "x = [8.0, 1, 2.5, 4, 28.0]\n",
    "x_with_nan = [8.0, 1, 2.5, math.nan, 4, 28.0]"
   ]
  },
  {
   "cell_type": "code",
   "execution_count": 9,
   "id": "be62b565",
   "metadata": {},
   "outputs": [
    {
     "data": {
      "text/plain": [
       "8.7"
      ]
     },
     "execution_count": 9,
     "metadata": {},
     "output_type": "execute_result"
    }
   ],
   "source": [
    "mean_ = sum(x) / len(x)\n",
    "mean_"
   ]
  },
  {
   "cell_type": "markdown",
   "id": "74b50952",
   "metadata": {},
   "source": [
    "Menerapkan fungsi statistics built-in Python:"
   ]
  },
  {
   "cell_type": "code",
   "execution_count": 10,
   "id": "e0086b0f",
   "metadata": {},
   "outputs": [
    {
     "name": "stdout",
     "output_type": "stream",
     "text": [
      "8.7\n"
     ]
    }
   ],
   "source": [
    "mean_ = statistics.mean(x)\n",
    "print(mean_)"
   ]
  },
  {
   "cell_type": "code",
   "execution_count": 11,
   "id": "7aa0c0cb",
   "metadata": {},
   "outputs": [
    {
     "name": "stdout",
     "output_type": "stream",
     "text": [
      "nan\n"
     ]
    }
   ],
   "source": [
    "mean_ = statistics.mean(x_with_nan)\n",
    "print(mean_)"
   ]
  },
  {
   "cell_type": "markdown",
   "id": "ff378d1c",
   "metadata": {},
   "source": [
    "Jika kita menggunakan NumPy, maka kita bisa mendapatkan mean dengan np.mean():"
   ]
  },
  {
   "cell_type": "code",
   "execution_count": 12,
   "id": "613adbc3",
   "metadata": {},
   "outputs": [
    {
     "data": {
      "text/plain": [
       "8.7"
      ]
     },
     "execution_count": 12,
     "metadata": {},
     "output_type": "execute_result"
    }
   ],
   "source": [
    "mean_ = np.mean(y)\n",
    "mean_"
   ]
  },
  {
   "cell_type": "markdown",
   "id": "4e74aca4",
   "metadata": {},
   "source": [
    "Kita juga dapat menggunakan method .mean ():"
   ]
  },
  {
   "cell_type": "code",
   "execution_count": 13,
   "id": "30fec106",
   "metadata": {},
   "outputs": [
    {
     "data": {
      "text/plain": [
       "8.7"
      ]
     },
     "execution_count": 13,
     "metadata": {},
     "output_type": "execute_result"
    }
   ],
   "source": [
    "mean_ = y.mean()\n",
    "mean_"
   ]
  },
  {
   "cell_type": "markdown",
   "id": "54c49140",
   "metadata": {},
   "source": [
    "Fungsi mean() dan method .mean() dari NumPy mengembalikan hasil yang sama seperti statistics.mean(). Dibawah ini adalah kasus ketika ada nilai nan pada data"
   ]
  },
  {
   "cell_type": "code",
   "execution_count": 14,
   "id": "ac5d330c",
   "metadata": {},
   "outputs": [
    {
     "name": "stdout",
     "output_type": "stream",
     "text": [
      "nan\n",
      "nan\n"
     ]
    }
   ],
   "source": [
    "print(np.mean(y_with_nan))\n",
    "print(y_with_nan.mean())"
   ]
  },
  {
   "cell_type": "markdown",
   "id": "dc67363e",
   "metadata": {},
   "source": [
    "Jika ingin mengabaikan nilai nan, dapat menggunakan np.nanmean ():"
   ]
  },
  {
   "cell_type": "code",
   "execution_count": 15,
   "id": "1b5d79bc",
   "metadata": {},
   "outputs": [
    {
     "data": {
      "text/plain": [
       "8.7"
      ]
     },
     "execution_count": 15,
     "metadata": {},
     "output_type": "execute_result"
    }
   ],
   "source": [
    "np.nanmean(y_with_nan)"
   ]
  },
  {
   "cell_type": "markdown",
   "id": "79da2a02",
   "metadata": {},
   "source": [
    "nanmean() mengabaikan semua nilai nan. nanmean() mengembalikan nilai yang sama seperti mean() jika kalian menerapkannya ke kumpulan data tanpa nilai nan.\n",
    "\n",
    "pd.Series objects juga mempunyai method .mean():"
   ]
  },
  {
   "cell_type": "code",
   "execution_count": 16,
   "id": "f1f81577",
   "metadata": {},
   "outputs": [
    {
     "data": {
      "text/plain": [
       "8.7"
      ]
     },
     "execution_count": 16,
     "metadata": {},
     "output_type": "execute_result"
    }
   ],
   "source": [
    "mean_ = z.mean()\n",
    "mean_"
   ]
  },
  {
   "cell_type": "markdown",
   "id": "529591ce",
   "metadata": {},
   "source": [
    "Seperti yang kalian lihat, .mean() digunakan dengan cara yang sama seperti dalam kasus NumPy. Namun, .mean() dari Pandas mengabaikan nilai nan secara default:"
   ]
  },
  {
   "cell_type": "code",
   "execution_count": 17,
   "id": "ef8d0d1b",
   "metadata": {},
   "outputs": [],
   "source": [
    "z, z_with_nan = pd.Series(x), pd.Series(x_with_nan)"
   ]
  },
  {
   "cell_type": "code",
   "execution_count": 18,
   "id": "e183364c",
   "metadata": {},
   "outputs": [
    {
     "data": {
      "text/plain": [
       "8.7"
      ]
     },
     "execution_count": 18,
     "metadata": {},
     "output_type": "execute_result"
    }
   ],
   "source": [
    "z_with_nan.mean()"
   ]
  },
  {
   "cell_type": "markdown",
   "id": "fd1e13e7",
   "metadata": {},
   "source": [
    "### Weighted Mean"
   ]
  },
  {
   "cell_type": "markdown",
   "id": "c99dfe0c",
   "metadata": {},
   "source": [
    "Weighted mean, juga disebut weighted arithmetic mean atau weighted average, adalah generalisasi dari rata-rata aritmatika yang memungkinkan kita untuk menentukan kontribusi relatif dari setiap titik data ke hasil.\n",
    "\n",
    "Kita menentukan satu bobot 𝑤ᵢ untuk setiap titik data 𝑥ᵢ dari dataset 𝑥, di mana 𝑖 = 1, 2,…, 𝑛 dan 𝑛 adalah jumlah item di 𝑥. Kemudian, kita mengalikan setiap titik data dengan bobot yang sesuai, menjumlahkan semua produk, dan membagi jumlah yang diperoleh dengan jumlah bobot: Σᵢ(𝑤ᵢ𝑥ᵢ) / Σᵢ𝑤ᵢ.\n",
    "\n",
    "Weighted mean sangat berguna saat kita membutuhkan rata-rata kumpulan data yang berisi item yang muncul dengan frekuensi relatif tertentu. Misalnya, kiita memiliki himpunan di mana 20% dari semua item sama dengan 2, 50% item sama dengan 4, dan 30% sisanya sama dengan 8. Kita dapat menghitung rata-rata dari set seperti ini:"
   ]
  },
  {
   "cell_type": "markdown",
   "id": "22e21ee2",
   "metadata": {},
   "source": [
    "Kita dapat mengimplementasikan weighted mean dalam Python pure dengan menggabungkan sum() dengan range() atau zip():"
   ]
  },
  {
   "cell_type": "code",
   "execution_count": 19,
   "id": "0531da5b",
   "metadata": {},
   "outputs": [
    {
     "name": "stdout",
     "output_type": "stream",
     "text": [
      "6.95\n"
     ]
    }
   ],
   "source": [
    "x = [8.0, 1, 2.5, 4, 28.0]\n",
    "w = [0.1, 0.2, 0.3, 0.25, 0.15]\n",
    "\n",
    "wmean = sum(w[i] * x[i] for i in range(len(x))) / sum(w)\n",
    "print(wmean)"
   ]
  },
  {
   "cell_type": "code",
   "execution_count": 20,
   "id": "06b5b60a",
   "metadata": {},
   "outputs": [
    {
     "name": "stdout",
     "output_type": "stream",
     "text": [
      "6.95\n"
     ]
    }
   ],
   "source": [
    "wmean = sum(x_ * w_ for (x_, w_) in zip(x, w)) / sum(w)\n",
    "print(wmean)"
   ]
  },
  {
   "cell_type": "markdown",
   "id": "c14944ae",
   "metadata": {},
   "source": [
    "Jika kita memiliki kumpulan data yang besar, NumPy kemungkinan akan memberikan solusi yang lebih baik. Kita dapat menggunakan np.average() untuk mendapatkan weighted mean dari array NumPy atau Series Pandas:"
   ]
  },
  {
   "cell_type": "code",
   "execution_count": 21,
   "id": "9dfecf23",
   "metadata": {},
   "outputs": [
    {
     "name": "stdout",
     "output_type": "stream",
     "text": [
      "6.95\n",
      "6.95\n"
     ]
    }
   ],
   "source": [
    "y, z, w = np.array(x), pd.Series(x), np.array(w)\n",
    "\n",
    "wmean = np.average(y, weights=w)\n",
    "print(wmean)\n",
    "\n",
    "wmean = np.average(z, weights=w)\n",
    "print(wmean)"
   ]
  },
  {
   "cell_type": "markdown",
   "id": "6cc1aed0",
   "metadata": {},
   "source": [
    "Hasilnya sama dengan kasus implementasi Python pure. Kita juga dapat menggunakan metode ini pada list dan tuples.\n",
    "\n",
    "Solusi lain adalah dengan menggunakan element-wise produc w * y dengan np.sum() atau .sum():"
   ]
  },
  {
   "cell_type": "code",
   "execution_count": 22,
   "id": "2f2edf86",
   "metadata": {},
   "outputs": [
    {
     "data": {
      "text/plain": [
       "6.95"
      ]
     },
     "execution_count": 22,
     "metadata": {},
     "output_type": "execute_result"
    }
   ],
   "source": [
    "(w * y).sum() / w.sum()"
   ]
  },
  {
   "cell_type": "markdown",
   "id": "48b41c03",
   "metadata": {},
   "source": [
    "### Harmonic Mean"
   ]
  },
  {
   "cell_type": "markdown",
   "id": "000fa45c",
   "metadata": {},
   "source": [
    "Harmonic mean adalah reciprocal dari mean dari semua item dalam dataset: 𝑛 / Σᵢ (1 / 𝑥ᵢ), di mana 𝑖 = 1, 2,…, 𝑛 dan 𝑛 adalah jumlah item dalam dataset 𝑥. \n",
    "\n",
    "Reciprocal artinya adalah 1/value.\n",
    "\n",
    "Contoh: we travel 10 km at 60 km/h, than another 10 km at 20 km/h, what is our average speed?\n",
    "\n",
    "Harmonic mean = 2/(1/60 + 1/20) = 30 km/h\n",
    "\n",
    "Harmonic mean juga bagus untuk handling outliers yang besar. Contoh: 2, 4, 6, dan 100\n",
    "- Arithmetic mean adalah 2+4+6+100/4  = 28\n",
    "- Harmonic mean adalah 4/( 1/2  +  1/4  +  1/6  +  1/100 ) = 4.32\n",
    "\n",
    "Salah satu varian dari implementasi Python pure dari harmonic mean adalah dibawah ini:"
   ]
  },
  {
   "cell_type": "code",
   "execution_count": 23,
   "id": "f394abce",
   "metadata": {},
   "outputs": [
    {
     "data": {
      "text/plain": [
       "[8.0, 1, 2.5, 4, 28.0]"
      ]
     },
     "execution_count": 23,
     "metadata": {},
     "output_type": "execute_result"
    }
   ],
   "source": [
    "x"
   ]
  },
  {
   "cell_type": "code",
   "execution_count": 24,
   "id": "6401ba1c",
   "metadata": {},
   "outputs": [
    {
     "data": {
      "text/plain": [
       "2.7613412228796843"
      ]
     },
     "execution_count": 24,
     "metadata": {},
     "output_type": "execute_result"
    }
   ],
   "source": [
    "hmean = len(x) / sum(1 / item for item in x)\n",
    "hmean"
   ]
  },
  {
   "cell_type": "markdown",
   "id": "24158203",
   "metadata": {},
   "source": [
    "Kita juga dapat menghitung ukuran ini dengan statistics.harmonic_mean():"
   ]
  },
  {
   "cell_type": "code",
   "execution_count": 25,
   "id": "8c4860bd",
   "metadata": {},
   "outputs": [
    {
     "data": {
      "text/plain": [
       "2.7613412228796843"
      ]
     },
     "execution_count": 25,
     "metadata": {},
     "output_type": "execute_result"
    }
   ],
   "source": [
    "hmean = statistics.harmonic_mean(x)\n",
    "hmean"
   ]
  },
  {
   "cell_type": "code",
   "execution_count": 26,
   "id": "8f9bbf11",
   "metadata": {},
   "outputs": [
    {
     "data": {
      "text/plain": [
       "2.7613412228796843"
      ]
     },
     "execution_count": 26,
     "metadata": {},
     "output_type": "execute_result"
    }
   ],
   "source": [
    "scipy.stats.hmean(y)"
   ]
  },
  {
   "cell_type": "code",
   "execution_count": 27,
   "id": "81f17ef6",
   "metadata": {},
   "outputs": [
    {
     "data": {
      "text/plain": [
       "2.7613412228796843"
      ]
     },
     "execution_count": 27,
     "metadata": {},
     "output_type": "execute_result"
    }
   ],
   "source": [
    "scipy.stats.hmean(z)"
   ]
  },
  {
   "cell_type": "markdown",
   "id": "a7af1592",
   "metadata": {},
   "source": [
    "### Geometric Mean"
   ]
  },
  {
   "cell_type": "markdown",
   "id": "238b5881",
   "metadata": {},
   "source": [
    "Geometric mean adalah akar ke-𝑛 dari hasil kali semua 𝑛 elemen 𝑥ᵢ dalam dataset  𝑥: ⁿ√ (Πᵢ𝑥ᵢ), di mana 𝑖 = 1, 2,…, 𝑛.\n",
    "\n",
    "Example: What is the Geometric Mean of 2 and 18?\n",
    "\n",
    "Pertama kita kalikan: 2 × 18 = 36\n",
    "Lalu ambil square root: √36 = 6\n",
    "Dalam one line:\n",
    "\n",
    "**Geometric Mean of 2 and 18 = √(2 × 18) = 6**"
   ]
  },
  {
   "cell_type": "markdown",
   "id": "33f7aa87",
   "metadata": {},
   "source": [
    "<img src=\"https://i.ibb.co/0jxHFCL/geometric.png\" width=\"500\" align=\"center\">"
   ]
  },
  {
   "cell_type": "markdown",
   "id": "b0c97834",
   "metadata": {},
   "source": [
    "Geometric Mean berguna ketika kita ingin membandingkan berbagai hal dengan properti yang sangat berbeda.\n",
    "\n",
    "Example: you want to buy a new camera.\n",
    "\n",
    "One camera has a zoom of 200 and gets an 8 in reviews. The other has a zoom of 250 and gets a 6 in reviews. Menggunakan aritmethic mean kita akan mendapatkan (200+8)/2 = 104 dan (250+6)/2 = 128. Zoom adalah angka yang sangat besar sehingga rating pengguna hilang.\n",
    "\n",
    "Tetapi, menggunakan geometric mean:\n",
    "\n",
    "√(200 × 8) = 40 √(250 × 6) = 38.7 Jadi, meskipun zoomnya 50 lebih besar, rating pengguna yang lebih rendah (6) tetap menjadi property penting.\n",
    "\n",
    "Gambar berikut mengilustrasikan arithmetic, harmonic, dan geometric dari dataset:"
   ]
  },
  {
   "cell_type": "markdown",
   "id": "ffcb926f",
   "metadata": {},
   "source": [
    "<img src=\"https://i.ibb.co/dPLQ4Sf/geometricmean.png\" width=\"500\" align=\"center\">\n",
    "\n",
    "titik hijau mewakili poin data 1, 2.5, 4, 8, dan 28. Garis putus-putus merah adalah mean. Garis putus-putus biru adalah harmonic mean, dan garis putus-putus kuning adalah geometric mean."
   ]
  },
  {
   "cell_type": "markdown",
   "id": "9beca0c1",
   "metadata": {},
   "source": [
    "Kita dapat mengimplementasikan geometric mean dalam Python pure seperti ini:"
   ]
  },
  {
   "cell_type": "code",
   "execution_count": 28,
   "id": "27515e65",
   "metadata": {},
   "outputs": [],
   "source": [
    "x = [8.0, 1, 2.5, 4, 28.0]"
   ]
  },
  {
   "cell_type": "code",
   "execution_count": 29,
   "id": "7750a847",
   "metadata": {},
   "outputs": [
    {
     "data": {
      "text/plain": [
       "4.677885674856041"
      ]
     },
     "execution_count": 29,
     "metadata": {},
     "output_type": "execute_result"
    }
   ],
   "source": [
    "gmean = 1\n",
    "\n",
    "for item in x:\n",
    "    gmean *= item\n",
    "\n",
    "gmean **= 1 / len(x)\n",
    "gmean"
   ]
  },
  {
   "cell_type": "markdown",
   "id": "fb557b21",
   "metadata": {},
   "source": [
    "Kita juga bisa mendapatkan geometric mean dengan scipy.stats.gmean() :"
   ]
  },
  {
   "cell_type": "code",
   "execution_count": 30,
   "id": "7b4d31ce",
   "metadata": {},
   "outputs": [
    {
     "data": {
      "text/plain": [
       "4.67788567485604"
      ]
     },
     "execution_count": 30,
     "metadata": {},
     "output_type": "execute_result"
    }
   ],
   "source": [
    "scipy.stats.gmean(y)"
   ]
  },
  {
   "cell_type": "code",
   "execution_count": 31,
   "id": "8454eb0b",
   "metadata": {},
   "outputs": [
    {
     "data": {
      "text/plain": [
       "4.67788567485604"
      ]
     },
     "execution_count": 31,
     "metadata": {},
     "output_type": "execute_result"
    }
   ],
   "source": [
    "scipy.stats.gmean(z)"
   ]
  },
  {
   "cell_type": "markdown",
   "id": "224d1ec9",
   "metadata": {},
   "source": [
    "### Median"
   ]
  },
  {
   "cell_type": "markdown",
   "id": "13cf5c03",
   "metadata": {},
   "source": [
    "Sample median adalah elemen tengah dari kumpulan data yang diurutkan. Dataset dapat diurutkan dalam urutan naik atau turun. Jika jumlah elemen 𝑛 dari dataset ganjil, maka median adalah nilai pada posisi tengah: 0,5 (𝑛 + 1). Jika 𝑛 genap, median adalah arithmetic mean dari dua nilai di tengah, yaitu item pada posisi 0,5𝑛 dan 0,5𝑛 + 1.\n",
    "\n",
    "Berikut adalah salah satu dari banyak kemungkinan implementasi Python pure dari median:"
   ]
  },
  {
   "cell_type": "code",
   "execution_count": 32,
   "id": "7e5e2d44",
   "metadata": {},
   "outputs": [
    {
     "data": {
      "text/plain": [
       "[8.0, 1, 2.5, 4, 28.0]"
      ]
     },
     "execution_count": 32,
     "metadata": {},
     "output_type": "execute_result"
    }
   ],
   "source": [
    "x"
   ]
  },
  {
   "cell_type": "code",
   "execution_count": 33,
   "id": "1023655a",
   "metadata": {},
   "outputs": [
    {
     "data": {
      "text/plain": [
       "4"
      ]
     },
     "execution_count": 33,
     "metadata": {},
     "output_type": "execute_result"
    }
   ],
   "source": [
    "n = len(x)\n",
    "if n % 2:\n",
    "    median_ = sorted(x)[round(0.5*(n-1))]\n",
    "else:\n",
    "    x_ord, index = sorted(x), round(0.5 * n)\n",
    "    median_ = 0.5 * (x_ord[index-1] + x_ord[index])\n",
    "\n",
    "median_"
   ]
  },
  {
   "cell_type": "markdown",
   "id": "c67a3c88",
   "metadata": {},
   "source": [
    "median_low() dan median_high() adalah dua fungsi lainnya yang terkait dengan median di pustaka statistics Python. Mereka selalu mengembalikan elemen dari kumpulan data:\n",
    "\n",
    "Jika jumlah elemennya ganjil, maka hanya ada satu nilai tengah, sehingga fungsi ini berperilaku seperti median().\n",
    "Jika jumlah elemennya genap, maka ada dua nilai tengah. Dalam kasus ini, median_low() mengembalikan nilai tengah yang lebih rendah dan median_high() lebih tinggi.\n",
    "Kita dapat menggunakan fungsi ini seperti halnya kita menggunakan median():"
   ]
  },
  {
   "cell_type": "code",
   "execution_count": 34,
   "id": "4e2b6173",
   "metadata": {},
   "outputs": [
    {
     "data": {
      "text/plain": [
       "2.5"
      ]
     },
     "execution_count": 34,
     "metadata": {},
     "output_type": "execute_result"
    }
   ],
   "source": [
    "statistics.median_low(x[:-1])"
   ]
  },
  {
   "cell_type": "code",
   "execution_count": 35,
   "id": "7c71b8ff",
   "metadata": {},
   "outputs": [
    {
     "data": {
      "text/plain": [
       "4"
      ]
     },
     "execution_count": 35,
     "metadata": {},
     "output_type": "execute_result"
    }
   ],
   "source": [
    "statistics.median_high(x[:-1])"
   ]
  },
  {
   "cell_type": "markdown",
   "id": "17c5d73b",
   "metadata": {},
   "source": [
    "Tidak seperti kebanyakan fungsi lain dari pustaka statistics  Python, median(), median_low(), dan median_high() tidak mengembalikan nan ketika ada nilai nan di antara titik data:"
   ]
  },
  {
   "cell_type": "code",
   "execution_count": 36,
   "id": "4289b3a7",
   "metadata": {},
   "outputs": [
    {
     "name": "stdout",
     "output_type": "stream",
     "text": [
      "6.0\n",
      "4\n",
      "8.0\n"
     ]
    }
   ],
   "source": [
    "print(statistics.median(x_with_nan))\n",
    "print(statistics.median_low(x_with_nan))\n",
    "print(statistics.median_high(x_with_nan))"
   ]
  },
  {
   "cell_type": "markdown",
   "id": "a59ef5e9",
   "metadata": {},
   "source": [
    "Kita juga bisa mendapatkan median dengan np.median ():"
   ]
  },
  {
   "cell_type": "code",
   "execution_count": 37,
   "id": "79cc3a92",
   "metadata": {},
   "outputs": [
    {
     "name": "stdout",
     "output_type": "stream",
     "text": [
      "4.0\n"
     ]
    }
   ],
   "source": [
    "median_ = np.median(y)\n",
    "print(median_)"
   ]
  },
  {
   "cell_type": "code",
   "execution_count": 38,
   "id": "db04a74b",
   "metadata": {},
   "outputs": [
    {
     "name": "stdout",
     "output_type": "stream",
     "text": [
      "3.25\n"
     ]
    }
   ],
   "source": [
    "median_ = np.median(y[:-1])\n",
    "print(median_)"
   ]
  },
  {
   "cell_type": "markdown",
   "id": "4788afe0",
   "metadata": {},
   "source": [
    "### Mode"
   ]
  },
  {
   "cell_type": "markdown",
   "id": "7b268316",
   "metadata": {},
   "source": [
    "Sample mode adalah nilai dalam kumpulan data yang paling sering muncul. Jika tidak ada satu pun nilai tersebut, maka set tersebut multimodal karena memiliki beberapa nilai modal. Misalnya, pada set yang berisi poin 2, 3, 2, 8, dan 12, angka 2 adalah mode karena terjadi dua kali, tidak seperti item lain yang hanya muncul sekali.\n",
    "\n",
    "Ini adalah bagaimana kita bisa mendapatkan mode dengan Python pure:"
   ]
  },
  {
   "cell_type": "code",
   "execution_count": 39,
   "id": "339e4802",
   "metadata": {},
   "outputs": [
    {
     "data": {
      "text/plain": [
       "2"
      ]
     },
     "execution_count": 39,
     "metadata": {},
     "output_type": "execute_result"
    }
   ],
   "source": [
    "u = [2, 3, 2, 8, 12]\n",
    "v = [12, 15, 12, 15, 21, 15, 12]\n",
    "\n",
    "mode_ = max((u.count(item), item) for item in set(u))[1]\n",
    "mode_"
   ]
  },
  {
   "cell_type": "markdown",
   "id": "b3d4f020",
   "metadata": {},
   "source": [
    "Kita juga bisa mendapatkan mode dengan scipy.stats.mode():"
   ]
  },
  {
   "cell_type": "code",
   "execution_count": 40,
   "id": "8d268501",
   "metadata": {},
   "outputs": [
    {
     "data": {
      "text/plain": [
       "2"
      ]
     },
     "execution_count": 40,
     "metadata": {},
     "output_type": "execute_result"
    }
   ],
   "source": [
    "mode_ = statistics.mode(u)\n",
    "mode_"
   ]
  },
  {
   "cell_type": "code",
   "execution_count": 41,
   "id": "14949b12",
   "metadata": {},
   "outputs": [
    {
     "data": {
      "text/plain": [
       "ModeResult(mode=array([2]), count=array([2]))"
      ]
     },
     "execution_count": 41,
     "metadata": {},
     "output_type": "execute_result"
    }
   ],
   "source": [
    "u, v = np.array(u), np.array(v)\n",
    "\n",
    "mode_ = scipy.stats.mode(u)\n",
    "mode_"
   ]
  },
  {
   "cell_type": "code",
   "execution_count": 42,
   "id": "6eafe77f",
   "metadata": {},
   "outputs": [
    {
     "data": {
      "text/plain": [
       "ModeResult(mode=array([12]), count=array([3]))"
      ]
     },
     "execution_count": 42,
     "metadata": {},
     "output_type": "execute_result"
    }
   ],
   "source": [
    "mode_ = scipy.stats.mode(v)\n",
    "mode_"
   ]
  },
  {
   "cell_type": "markdown",
   "id": "7228455d",
   "metadata": {},
   "source": [
    "Kita bisa mendapatkan mode dan jumlah kemunculannya sebagai array NumPy dengan dot notation:"
   ]
  },
  {
   "cell_type": "code",
   "execution_count": 43,
   "id": "d88a0e43",
   "metadata": {},
   "outputs": [
    {
     "name": "stdout",
     "output_type": "stream",
     "text": [
      "[12]\n",
      "[3]\n"
     ]
    }
   ],
   "source": [
    "print(mode_.mode)\n",
    "print(mode_.count)"
   ]
  },
  {
   "cell_type": "markdown",
   "id": "dfe2904f",
   "metadata": {},
   "source": [
    "Objek Pandas Series memiliki metode .mode() yang menangani nilai multimodal dengan baik dan mengabaikan nilai nan secara default:"
   ]
  },
  {
   "cell_type": "code",
   "execution_count": 44,
   "id": "754ee815",
   "metadata": {},
   "outputs": [
    {
     "name": "stdout",
     "output_type": "stream",
     "text": [
      "0    2\n",
      "dtype: int32\n",
      "0    12\n",
      "1    15\n",
      "dtype: int32\n",
      "0    2.0\n",
      "dtype: float64\n"
     ]
    }
   ],
   "source": [
    "u, v, w = pd.Series(u), pd.Series(v), pd.Series([2, 2, math.nan])\n",
    "\n",
    "print(u.mode())\n",
    "\n",
    "print(v.mode())\n",
    "\n",
    "print(w.mode())"
   ]
  },
  {
   "cell_type": "markdown",
   "id": "e15b9f1c",
   "metadata": {},
   "source": [
    "Seperti yang kalian lihat, .mode() mengembalikan pd.Series baru yang menampung semua nilai modal. Jika kalian ingin .mode() memperhitungkan nilai nan, cukup teruskan argumen opsional dropna = False."
   ]
  },
  {
   "cell_type": "markdown",
   "id": "99a7fac3",
   "metadata": {},
   "source": [
    "## Measures of Variability\n",
    "\n",
    "Kita memerlukan ukuran variabilitas yang mengukur penyebaran titik data."
   ]
  },
  {
   "cell_type": "markdown",
   "id": "f014bdb2",
   "metadata": {},
   "source": [
    "### Variance"
   ]
  },
  {
   "cell_type": "markdown",
   "id": "87b0c6a4",
   "metadata": {},
   "source": [
    "Standard deviation Skewness Percentiles Ranges Sample variance mengukur penyebaran data. Sample variance menunjukkan secara numerik seberapa jauh titik data dari mean.\n",
    "\n",
    "Kita dapat mengekspresikan varians sampel dari kumpulan data 𝑥 dengan 𝑛 elemen secara matematis sebagai 𝑠² = Σᵢ(𝑥ᵢ − mean(𝑥))² / (𝑛 − 1), di mana 𝑖 = 1, 2,…, 𝑛 dan mean (𝑥) adalah sample mean dari 𝑥."
   ]
  },
  {
   "cell_type": "markdown",
   "id": "a003d9c5",
   "metadata": {},
   "source": [
    "cara menghitung sample variance dengan Python pure:"
   ]
  },
  {
   "cell_type": "code",
   "execution_count": 45,
   "id": "bf85c4a5",
   "metadata": {},
   "outputs": [
    {
     "data": {
      "text/plain": [
       "[8.0, 1, 2.5, 4, 28.0]"
      ]
     },
     "execution_count": 45,
     "metadata": {},
     "output_type": "execute_result"
    }
   ],
   "source": [
    "x"
   ]
  },
  {
   "cell_type": "code",
   "execution_count": 46,
   "id": "9d7e3f37",
   "metadata": {},
   "outputs": [
    {
     "data": {
      "text/plain": [
       "123.19999999999999"
      ]
     },
     "execution_count": 46,
     "metadata": {},
     "output_type": "execute_result"
    }
   ],
   "source": [
    "n = len(x)\n",
    "\n",
    "mean_ = sum(x) / n\n",
    "\n",
    "var_ = sum((item - mean_)**2 for item in x) / (n - 1)\n",
    "var_"
   ]
  },
  {
   "cell_type": "markdown",
   "id": "462f2ed9",
   "metadata": {},
   "source": [
    "solusi yang lebih singkat dan lebih elegan adalah dengan memanggil fungsi statistics.variance():\n"
   ]
  },
  {
   "cell_type": "code",
   "execution_count": 47,
   "id": "38243934",
   "metadata": {},
   "outputs": [
    {
     "data": {
      "text/plain": [
       "123.2"
      ]
     },
     "execution_count": 47,
     "metadata": {},
     "output_type": "execute_result"
    }
   ],
   "source": [
    "var_ = statistics.variance(x)\n",
    "var_"
   ]
  },
  {
   "cell_type": "markdown",
   "id": "4e0b93e0",
   "metadata": {},
   "source": [
    "Kita juga dapat menghitung sample variance dengan NumPy. Kita harus menggunakan fungsi np.var() atau method .var():"
   ]
  },
  {
   "cell_type": "code",
   "execution_count": 48,
   "id": "43341e5d",
   "metadata": {},
   "outputs": [
    {
     "data": {
      "text/plain": [
       "array([ 8. ,  1. ,  2.5,  4. , 28. ])"
      ]
     },
     "execution_count": 48,
     "metadata": {},
     "output_type": "execute_result"
    }
   ],
   "source": [
    "y"
   ]
  },
  {
   "cell_type": "code",
   "execution_count": 49,
   "id": "9f814cfe",
   "metadata": {},
   "outputs": [
    {
     "data": {
      "text/plain": [
       "123.19999999999999"
      ]
     },
     "execution_count": 49,
     "metadata": {},
     "output_type": "execute_result"
    }
   ],
   "source": [
    "var_ = np.var(y, ddof=1)\n",
    "var_"
   ]
  },
  {
   "cell_type": "code",
   "execution_count": 50,
   "id": "761aaf9e",
   "metadata": {},
   "outputs": [
    {
     "data": {
      "text/plain": [
       "123.19999999999999"
      ]
     },
     "execution_count": 50,
     "metadata": {},
     "output_type": "execute_result"
    }
   ],
   "source": [
    "var_ = y.var(ddof=1)\n",
    "var_"
   ]
  },
  {
   "cell_type": "markdown",
   "id": "029e996c",
   "metadata": {},
   "source": [
    "Sangat penting untuk menentukan parameter ddof = 1. Begitulah cara kita menyetel degrees of freedom ke 1. Parameter ini memungkinkan kalkulasi yang tepat dari 𝑠², dengan (𝑛 - 1) di penyebutnya, bukan 𝑛.\n",
    "\n",
    "Istilah angka derajat kebebasan (degree of freedom) diartikan sebagai banyaknya pengamatan bebas dari total pengamatan n. Sehingga rumus umum untuk menentukan degree of freedom (df) adalah total pengamatan (n) dikurangi dengan banyaknya parameter yang ditaksir atau df = n - banyaknya parameter (k)."
   ]
  },
  {
   "cell_type": "markdown",
   "id": "dc4d3680",
   "metadata": {},
   "source": [
    "Objek pd.Series memiliki metode .var() yang mengabaikan nilai nan secara default:"
   ]
  },
  {
   "cell_type": "code",
   "execution_count": 51,
   "id": "f9fa4fe1",
   "metadata": {},
   "outputs": [
    {
     "data": {
      "text/plain": [
       "0     8.0\n",
       "1     1.0\n",
       "2     2.5\n",
       "3     4.0\n",
       "4    28.0\n",
       "dtype: float64"
      ]
     },
     "execution_count": 51,
     "metadata": {},
     "output_type": "execute_result"
    }
   ],
   "source": [
    "z"
   ]
  },
  {
   "cell_type": "code",
   "execution_count": 52,
   "id": "277b0e35",
   "metadata": {},
   "outputs": [
    {
     "data": {
      "text/plain": [
       "123.19999999999999"
      ]
     },
     "execution_count": 52,
     "metadata": {},
     "output_type": "execute_result"
    }
   ],
   "source": [
    "z.var(ddof=1)"
   ]
  },
  {
   "cell_type": "markdown",
   "id": "3a4e93fa",
   "metadata": {},
   "source": [
    ".var() juga memiliki parameter ddof, tetapi nilai defaultnya adalah 1, jadi kalian dapat menghilangkannya. Jika kalian menginginkan perilaku yang berbeda terkait dengan nilai nan, gunakan parameter opsional skipna.\n",
    "\n",
    "Kita menghitung population variance sama dengan sample variance. Namun, kita harus menggunakan 𝑛 dalam penyebutnya, bukan 𝑛 − 1: Σᵢ(𝑥ᵢ − mean(𝑥))² / 𝑛. Dalam hal ini, 𝑛 adalah banyaknya item dalam seluruh populasi. Kita bisa mendapatkan varians populasi yang mirip dengan varians sampel, dengan perbedaan berikut:\n",
    "\n",
    "Replace (n - 1) with n in the pure Python implementation.\n",
    "Use statistics.pvariance() instead of statistics.variance().\n",
    "Specify the parameter ddof=0 if you use NumPy or Pandas. In NumPy, you can omit ddof because its default value is 0."
   ]
  },
  {
   "cell_type": "markdown",
   "id": "265b93a2",
   "metadata": {},
   "source": [
    "### Standard Deviation"
   ]
  },
  {
   "cell_type": "markdown",
   "id": "4e830587",
   "metadata": {},
   "source": [
    "Sample standard deviation adalah cara lain mengukur penyebaran data. Berhubungan dengan varians sampel, karena standard deviation, 𝑠, adalah positive square root dari sample variance. standard deviation seringkali lebih cocok daripada varians karena memiliki satuan yang sama dengan data points. Setelah kita mendapatkan variance, kita dapat menghitung deviasi standar dengan Python pure:"
   ]
  },
  {
   "cell_type": "code",
   "execution_count": 53,
   "id": "412b36e3",
   "metadata": {},
   "outputs": [
    {
     "data": {
      "text/plain": [
       "11.099549540409285"
      ]
     },
     "execution_count": 53,
     "metadata": {},
     "output_type": "execute_result"
    }
   ],
   "source": [
    "std_ = var_ ** 0.5\n",
    "std_"
   ]
  },
  {
   "cell_type": "markdown",
   "id": "95bf099b",
   "metadata": {},
   "source": [
    "kita juga dapat menggunakan statistics.stdev():"
   ]
  },
  {
   "cell_type": "code",
   "execution_count": 54,
   "id": "261b3cb8",
   "metadata": {},
   "outputs": [
    {
     "data": {
      "text/plain": [
       "[8.0, 1, 2.5, 4, 28.0]"
      ]
     },
     "execution_count": 54,
     "metadata": {},
     "output_type": "execute_result"
    }
   ],
   "source": [
    "x"
   ]
  },
  {
   "cell_type": "code",
   "execution_count": 55,
   "id": "a9946ac5",
   "metadata": {},
   "outputs": [
    {
     "data": {
      "text/plain": [
       "11.099549540409287"
      ]
     },
     "execution_count": 55,
     "metadata": {},
     "output_type": "execute_result"
    }
   ],
   "source": [
    "std_ = statistics.stdev(x)\n",
    "std_"
   ]
  },
  {
   "cell_type": "markdown",
   "id": "9c8872bc",
   "metadata": {},
   "source": [
    "Tentu saja hasilnya sama seperti sebelumnya. Seperti variance(), stdev() tidak menghitung mean jika kita memberikannya secara eksplisit sebagai argumen kedua: statistics.stdev(x, mean_).\n",
    "\n",
    "Kita bisa mendapatkan standard deviation dengan NumPy dengan cara yang hampir sama. Kita dapat menggunakan fungsi std() dan method .std() untuk menghitung standard deviation. Jika ada nilai nan dalam kumpulan data, maka akan mengembalikan nan. Untuk mengabaikan nilai nan, kita harus menggunakan np.nanstd()."
   ]
  },
  {
   "cell_type": "code",
   "execution_count": 56,
   "id": "b381f945",
   "metadata": {},
   "outputs": [
    {
     "data": {
      "text/plain": [
       "array([ 8. ,  1. ,  2.5,  4. , 28. ])"
      ]
     },
     "execution_count": 56,
     "metadata": {},
     "output_type": "execute_result"
    }
   ],
   "source": [
    "y"
   ]
  },
  {
   "cell_type": "code",
   "execution_count": 57,
   "id": "b2ea8f18",
   "metadata": {},
   "outputs": [
    {
     "data": {
      "text/plain": [
       "11.099549540409285"
      ]
     },
     "execution_count": 57,
     "metadata": {},
     "output_type": "execute_result"
    }
   ],
   "source": [
    "np.std(y, ddof=1)"
   ]
  },
  {
   "cell_type": "code",
   "execution_count": 58,
   "id": "b236eabd",
   "metadata": {},
   "outputs": [
    {
     "data": {
      "text/plain": [
       "11.099549540409285"
      ]
     },
     "execution_count": 58,
     "metadata": {},
     "output_type": "execute_result"
    }
   ],
   "source": [
    "y.std(ddof=1)"
   ]
  },
  {
   "cell_type": "markdown",
   "id": "2318a111",
   "metadata": {},
   "source": [
    "Objek pd.Series juga memiliki method .std() yang mengabaikan nan secara default:"
   ]
  },
  {
   "cell_type": "code",
   "execution_count": 59,
   "id": "2276d173",
   "metadata": {},
   "outputs": [
    {
     "data": {
      "text/plain": [
       "0     8.0\n",
       "1     1.0\n",
       "2     2.5\n",
       "3     4.0\n",
       "4    28.0\n",
       "dtype: float64"
      ]
     },
     "execution_count": 59,
     "metadata": {},
     "output_type": "execute_result"
    }
   ],
   "source": [
    "z"
   ]
  },
  {
   "cell_type": "code",
   "execution_count": 60,
   "id": "a533abd2",
   "metadata": {},
   "outputs": [
    {
     "data": {
      "text/plain": [
       "11.099549540409285"
      ]
     },
     "execution_count": 60,
     "metadata": {},
     "output_type": "execute_result"
    }
   ],
   "source": [
    "z.std(ddof=1)"
   ]
  },
  {
   "cell_type": "markdown",
   "id": "625405ab",
   "metadata": {},
   "source": [
    "Parameter ddof default adalah 1, jadi kita bisa menghilangkannya. Sekali lagi, jika kita ingin memperlakukan nilai nan secara berbeda, maka terapkan parameter skipna.\n",
    "\n",
    "Population standard deviation mengacu pada keseluruhan populasi. Ini adalah akar kuadrat positif dari population variance. Kita dapat menghitungnya seperti sample standard deviation, dengan perbedaan sebagai berikut:\n",
    "\n",
    "Find the square root of the population variance in the pure Python implementation.\n",
    "Use statistics.pstdev() instead of statistics.stdev().\n",
    "Specify the parameter ddof=0 if you use NumPy or Pandas. In NumPy, you can omit ddof because its default value is 0. As you can see, you can determine the standard deviation in Python, NumPy, and Pandas in almost the same way as you determine the variance. You use different but analogous functions and methods with the same arguments."
   ]
  },
  {
   "cell_type": "markdown",
   "id": "5cc6abf3",
   "metadata": {},
   "source": [
    "## Skewness"
   ]
  },
  {
   "cell_type": "markdown",
   "id": "49d8d1f9",
   "metadata": {},
   "source": [
    "Sample skewness mengukur asimetri sampel data.\n",
    "\n",
    "Ada beberapa definisi matematis tentang skewness. Satu ekspresi umum untuk menghitung skewness kumpulan data 𝑥 dengan elemen 𝑛 adalah (𝑛² / ((𝑛 - 1) (𝑛 - 2))) (Σᵢ (𝑥ᵢ - mean (𝑥)) ³ / (𝑛𝑠³)). Ekspresi yang lebih sederhana adalah Σᵢ (𝑥ᵢ - mean (𝑥)) ³ 𝑛 / ((𝑛 - 1) (𝑛 - 2) 𝑠³), di mana 𝑖 = 1, 2,…, 𝑛 dan mean (𝑥) adalah mean sampel dari 𝑥. skewness yang didefinisikan seperti ini disebut adjusted Fisher-Pearson standardized moment coefficient."
   ]
  },
  {
   "cell_type": "markdown",
   "id": "fc35e68e",
   "metadata": {},
   "source": [
    "Setelah kita menghitung ukuran kumpulan data n, sample mean mean_, danstandard deviation std_, Kita bisa mendapatkan sample skewness dengan Python pure:"
   ]
  },
  {
   "cell_type": "code",
   "execution_count": 61,
   "id": "0f8a5220",
   "metadata": {},
   "outputs": [
    {
     "data": {
      "text/plain": [
       "1.9470432273905929"
      ]
     },
     "execution_count": 61,
     "metadata": {},
     "output_type": "execute_result"
    }
   ],
   "source": [
    "x = [8.0, 1, 2.5, 4, 28.0]\n",
    "\n",
    "n = len(x)\n",
    "\n",
    "mean_ = sum(x) / n\n",
    "var_ = sum((item - mean_)**2 for item in x) / (n-1)\n",
    "std_ = var_ ** 0.5\n",
    "\n",
    "skew_ = (sum((item - mean_)**3 for item in x) * n / ((n - 1) * (n - 2) * std_**3))\n",
    "skew_"
   ]
  },
  {
   "cell_type": "markdown",
   "id": "74ec683d",
   "metadata": {},
   "source": [
    "Skewness menunjukan angka positive, jadi x mempunyai right-side tail.\n",
    "\n",
    "Kita juga dapat menghitung sample skewness dengan scipy.stats.skew():"
   ]
  },
  {
   "cell_type": "code",
   "execution_count": 62,
   "id": "5771c6be",
   "metadata": {},
   "outputs": [
    {
     "data": {
      "text/plain": [
       "array([ 8. ,  1. ,  2.5,  4. , 28. ])"
      ]
     },
     "execution_count": 62,
     "metadata": {},
     "output_type": "execute_result"
    }
   ],
   "source": [
    "y"
   ]
  },
  {
   "cell_type": "code",
   "execution_count": 63,
   "id": "94c34828",
   "metadata": {},
   "outputs": [
    {
     "data": {
      "text/plain": [
       "1.9470432273905927"
      ]
     },
     "execution_count": 63,
     "metadata": {},
     "output_type": "execute_result"
    }
   ],
   "source": [
    "y, y_with_nan = np.array(x), np.array(x_with_nan)\n",
    "\n",
    "scipy.stats.skew(y, bias=False)"
   ]
  },
  {
   "cell_type": "code",
   "execution_count": 64,
   "id": "08171479",
   "metadata": {},
   "outputs": [
    {
     "data": {
      "text/plain": [
       "nan"
      ]
     },
     "execution_count": 64,
     "metadata": {},
     "output_type": "execute_result"
    }
   ],
   "source": [
    "scipy.stats.skew(y_with_nan, bias=False)"
   ]
  },
  {
   "cell_type": "markdown",
   "id": "7fc604c2",
   "metadata": {},
   "source": [
    "Hasil yang diperoleh sama dengan implementasi Python pure. Parameter bias diset ke False untuk mengaktifkan koreksi bias statistik. Parameter opsional nan_policy dapat menerima nilai 'propagate', 'raise', atau 'omit'. Ini memungkinkan kita untuk mengontrol cara kita menangani nilai nan.\n",
    "\n",
    "Objek Pandas Series memiliki metode .skew() yang juga mengembalikan skewness kumpulan data:"
   ]
  },
  {
   "cell_type": "code",
   "execution_count": 65,
   "id": "2a4694c9",
   "metadata": {},
   "outputs": [
    {
     "data": {
      "text/plain": [
       "0     8.0\n",
       "1     1.0\n",
       "2     2.5\n",
       "3     4.0\n",
       "4    28.0\n",
       "dtype: float64"
      ]
     },
     "execution_count": 65,
     "metadata": {},
     "output_type": "execute_result"
    }
   ],
   "source": [
    "z"
   ]
  },
  {
   "cell_type": "code",
   "execution_count": 66,
   "id": "adfde64e",
   "metadata": {},
   "outputs": [
    {
     "data": {
      "text/plain": [
       "1.9470432273905924"
      ]
     },
     "execution_count": 66,
     "metadata": {},
     "output_type": "execute_result"
    }
   ],
   "source": [
    "z, z_with_nan = pd.Series(x), pd.Series(x_with_nan)\n",
    "\n",
    "z.skew()"
   ]
  },
  {
   "cell_type": "code",
   "execution_count": 67,
   "id": "99d60823",
   "metadata": {},
   "outputs": [
    {
     "data": {
      "text/plain": [
       "1.9470432273905924"
      ]
     },
     "execution_count": 67,
     "metadata": {},
     "output_type": "execute_result"
    }
   ],
   "source": [
    "z_with_nan.skew()"
   ]
  },
  {
   "cell_type": "markdown",
   "id": "12328a75",
   "metadata": {},
   "source": [
    "## Percentiles"
   ]
  },
  {
   "cell_type": "markdown",
   "id": "9ff9d924",
   "metadata": {},
   "source": [
    "sample 𝑝 percentile adalah elemen dalam kumpulan data sehingga 𝑝% elemen dalam kumpulan data kurang dari atau sama dengan nilai tersebut. Juga, (100 - 𝑝)% elemen lebih besar dari atau sama dengan nilai tersebut. \n",
    "\n",
    "Tiap dataset memiliki tiga quartiles, yang merupakan persentil yang membagi dataset menjadi empat bagian:\n",
    "- First quartile adalah sampel persentil ke-25. Kuartil pertama membagi sekitar 25% item terkecil dari kumpulan data lainnya.\n",
    "- Second quartile adalah sampel persentil ke-50 atau median. Kira-kira 25% item terletak di antara kuartil pertama dan kedua dan 25% lainnya antara kuartil kedua dan ketiga.\n",
    "- Third quartile adalah sampel persentil ke-75. Kuartil ketiga membagi sekitar 25% item terbesar dari sisa kumpulan data.\n",
    "\n",
    "Setiap bagian memiliki jumlah item yang kurang lebih sama. Jika kita ingin membagi data kita menjadi beberapa interval, maka kita dapat menggunakan statistics.quantiles():"
   ]
  },
  {
   "cell_type": "code",
   "execution_count": 68,
   "id": "6941bcc6",
   "metadata": {},
   "outputs": [],
   "source": [
    "import statistics\n",
    "import numpy as np "
   ]
  },
  {
   "cell_type": "code",
   "execution_count": 69,
   "id": "e0e30749",
   "metadata": {},
   "outputs": [
    {
     "data": {
      "text/plain": [
       "8.0"
      ]
     },
     "execution_count": 69,
     "metadata": {},
     "output_type": "execute_result"
    }
   ],
   "source": [
    "x = [-5.0, -1.1, 0.1, 2.0, 8.0, 12.8, 21.0, 25.8, 41.0]\n",
    "\n",
    "#statistics.quantiles(x, n=2)\n",
    "np.quantile(x, .50)"
   ]
  },
  {
   "cell_type": "markdown",
   "id": "ae430e55",
   "metadata": {},
   "source": [
    "Kita juga dapat menggunakan np.percentile() untuk menentukan persentil sampel apa pun dalam kumpulan data kita. Misalnya, ini cara kita mencari persentil ke-5 dan ke-95:"
   ]
  },
  {
   "cell_type": "code",
   "execution_count": 70,
   "id": "631966bd",
   "metadata": {},
   "outputs": [
    {
     "data": {
      "text/plain": [
       "[-5.0, -1.1, 0.1, 2.0, 8.0, 12.8, 21.0, 25.8, 41.0]"
      ]
     },
     "execution_count": 70,
     "metadata": {},
     "output_type": "execute_result"
    }
   ],
   "source": [
    "x"
   ]
  },
  {
   "cell_type": "code",
   "execution_count": 71,
   "id": "cbb9b100",
   "metadata": {},
   "outputs": [
    {
     "data": {
      "text/plain": [
       "-3.44"
      ]
     },
     "execution_count": 71,
     "metadata": {},
     "output_type": "execute_result"
    }
   ],
   "source": [
    "y = np.array(x)\n",
    "np.percentile(y, 5)"
   ]
  },
  {
   "cell_type": "code",
   "execution_count": 72,
   "id": "261dd13a",
   "metadata": {},
   "outputs": [
    {
     "data": {
      "text/plain": [
       "34.919999999999995"
      ]
     },
     "execution_count": 72,
     "metadata": {},
     "output_type": "execute_result"
    }
   ],
   "source": [
    "np.percentile(y, 95)"
   ]
  },
  {
   "cell_type": "markdown",
   "id": "df9f0594",
   "metadata": {},
   "source": [
    "percentile() membutuhkan beberapa argumen. Kita harus menyediakan dataset sebagai argumen pertama dan nilai persentil sebagai yang kedua. Dataset dapat berupa array NumPy, list, tuple, atau struktur data serupa. Persentil bisa berupa angka antara 0 dan 100 seperti pada contoh di atas, tetapi bisa juga berupa urutan angka:"
   ]
  },
  {
   "cell_type": "code",
   "execution_count": 73,
   "id": "65765ab1",
   "metadata": {},
   "outputs": [
    {
     "data": {
      "text/plain": [
       "array([ 0.1,  8. , 21. ])"
      ]
     },
     "execution_count": 73,
     "metadata": {},
     "output_type": "execute_result"
    }
   ],
   "source": [
    "np.percentile(y, [25, 50, 75])"
   ]
  },
  {
   "cell_type": "code",
   "execution_count": 74,
   "id": "81ccf3e0",
   "metadata": {},
   "outputs": [
    {
     "data": {
      "text/plain": [
       "8.0"
      ]
     },
     "execution_count": 74,
     "metadata": {},
     "output_type": "execute_result"
    }
   ],
   "source": [
    "np.median(y)"
   ]
  },
  {
   "cell_type": "markdown",
   "id": "56dcb89f",
   "metadata": {},
   "source": [
    "Kode tersebut menghitung persentil ke-25, ke-50, dan ke-75 sekaligus. Jika nilai persentil adalah sebuah urutan, maka percentile() mengembalikan array NumPy dengan hasilnya. Statement pertama mengembalikan array quartiles. Pernyataan kedua mengembalikan median, sehingga kita dapat mengonfirmasi bahwa itu sama dengan persentil ke-50, yaitu 8.0.\n",
    "\n",
    "Jika kita ingin mengabaikan nilai nan, gunakan np.nanpercentile() sebagai gantinya:"
   ]
  },
  {
   "cell_type": "code",
   "execution_count": 75,
   "id": "4f6a0ba5",
   "metadata": {},
   "outputs": [
    {
     "data": {
      "text/plain": [
       "array([-5. , -1.1,  nan,  0.1,  2. ,  8. , 12.8, 21. , 25.8, 41. ])"
      ]
     },
     "execution_count": 75,
     "metadata": {},
     "output_type": "execute_result"
    }
   ],
   "source": [
    "y_with_nan = np.insert(y, 2, np.nan)\n",
    "y_with_nan"
   ]
  },
  {
   "cell_type": "code",
   "execution_count": 76,
   "id": "3bd85ef0",
   "metadata": {},
   "outputs": [
    {
     "data": {
      "text/plain": [
       "array([ 0.1,  8. , 21. ])"
      ]
     },
     "execution_count": 76,
     "metadata": {},
     "output_type": "execute_result"
    }
   ],
   "source": [
    "np.nanpercentile(y_with_nan, [25, 50, 75])"
   ]
  },
  {
   "cell_type": "markdown",
   "id": "8204207e",
   "metadata": {},
   "source": [
    "Begitulah cara kita menghindari nilai nan.\n",
    "\n",
    "NumPy juga menawarkan fungsionalitas yang sangat mirip di quantile() dan nanquantile(). Jika kita ingin menggunakannya, kita harus memberikan nilai-nilai kuantitatif sebagai angka antara 0 dan 1, bukan persentil:"
   ]
  },
  {
   "cell_type": "code",
   "execution_count": 77,
   "id": "9493ccb1",
   "metadata": {},
   "outputs": [
    {
     "data": {
      "text/plain": [
       "-3.44"
      ]
     },
     "execution_count": 77,
     "metadata": {},
     "output_type": "execute_result"
    }
   ],
   "source": [
    "np.quantile(y, 0.05)"
   ]
  },
  {
   "cell_type": "code",
   "execution_count": 78,
   "id": "4c380dc4",
   "metadata": {},
   "outputs": [
    {
     "data": {
      "text/plain": [
       "34.919999999999995"
      ]
     },
     "execution_count": 78,
     "metadata": {},
     "output_type": "execute_result"
    }
   ],
   "source": [
    "np.quantile(y, 0.95)"
   ]
  },
  {
   "cell_type": "code",
   "execution_count": 79,
   "id": "7ab1f5fa",
   "metadata": {},
   "outputs": [
    {
     "data": {
      "text/plain": [
       "array([ 0.1,  8. , 21. ])"
      ]
     },
     "execution_count": 79,
     "metadata": {},
     "output_type": "execute_result"
    }
   ],
   "source": [
    "np.quantile(y, [0.25, 0.5, 0.75])"
   ]
  },
  {
   "cell_type": "code",
   "execution_count": 80,
   "id": "4d62a3da",
   "metadata": {},
   "outputs": [
    {
     "data": {
      "text/plain": [
       "array([ 0.1,  8. , 21. ])"
      ]
     },
     "execution_count": 80,
     "metadata": {},
     "output_type": "execute_result"
    }
   ],
   "source": [
    "np.nanquantile(y_with_nan, [0.25, 0.5, 0.75])"
   ]
  },
  {
   "cell_type": "markdown",
   "id": "a6835e60",
   "metadata": {},
   "source": [
    "Hasilnya sama seperti pada contoh sebelumnya, tetapi di sini argumen kita antara 0 dan 1. Dengan kata lain, kita memberikan 0.05 daripada 5 dan 0.95 daripada 95.\n",
    "\n",
    "pd.Series objek memiliki method .quantile():"
   ]
  },
  {
   "cell_type": "code",
   "execution_count": 81,
   "id": "81dbcd38",
   "metadata": {},
   "outputs": [],
   "source": [
    "z, z_with_nan = pd.Series(y), pd.Series(y_with_nan)"
   ]
  },
  {
   "cell_type": "code",
   "execution_count": 82,
   "id": "5390f867",
   "metadata": {},
   "outputs": [
    {
     "data": {
      "text/plain": [
       "-3.44"
      ]
     },
     "execution_count": 82,
     "metadata": {},
     "output_type": "execute_result"
    }
   ],
   "source": [
    "z.quantile(0.05)"
   ]
  },
  {
   "cell_type": "code",
   "execution_count": 83,
   "id": "cdf27817",
   "metadata": {},
   "outputs": [
    {
     "data": {
      "text/plain": [
       "34.919999999999995"
      ]
     },
     "execution_count": 83,
     "metadata": {},
     "output_type": "execute_result"
    }
   ],
   "source": [
    "z.quantile(0.95)"
   ]
  },
  {
   "cell_type": "code",
   "execution_count": 84,
   "id": "3f7b3be2",
   "metadata": {},
   "outputs": [
    {
     "data": {
      "text/plain": [
       "0.25     0.1\n",
       "0.50     8.0\n",
       "0.75    21.0\n",
       "dtype: float64"
      ]
     },
     "execution_count": 84,
     "metadata": {},
     "output_type": "execute_result"
    }
   ],
   "source": [
    "z.quantile([0.25, 0.5, 0.75])"
   ]
  },
  {
   "cell_type": "code",
   "execution_count": 85,
   "id": "f9d9a3f6",
   "metadata": {},
   "outputs": [
    {
     "data": {
      "text/plain": [
       "0.25     0.1\n",
       "0.50     8.0\n",
       "0.75    21.0\n",
       "dtype: float64"
      ]
     },
     "execution_count": 85,
     "metadata": {},
     "output_type": "execute_result"
    }
   ],
   "source": [
    "z_with_nan.quantile([0.25, 0.5, 0.75])"
   ]
  },
  {
   "cell_type": "markdown",
   "id": "9d212694",
   "metadata": {},
   "source": [
    "## Ranges"
   ]
  },
  {
   "cell_type": "markdown",
   "id": "2d12f7a8",
   "metadata": {},
   "source": [
    "Rentang data/range data adalah perbedaan antara elemen maksimum dan minimum dalam kumpulan data. Kita bisa mendapatkannya dengan fungsi np.ptp():"
   ]
  },
  {
   "cell_type": "code",
   "execution_count": 86,
   "id": "36064c11",
   "metadata": {},
   "outputs": [
    {
     "data": {
      "text/plain": [
       "array([-5. , -1.1,  0.1,  2. ,  8. , 12.8, 21. , 25.8, 41. ])"
      ]
     },
     "execution_count": 86,
     "metadata": {},
     "output_type": "execute_result"
    }
   ],
   "source": [
    "y"
   ]
  },
  {
   "cell_type": "code",
   "execution_count": 87,
   "id": "a2722a47",
   "metadata": {},
   "outputs": [
    {
     "data": {
      "text/plain": [
       "46.0"
      ]
     },
     "execution_count": 87,
     "metadata": {},
     "output_type": "execute_result"
    }
   ],
   "source": [
    "np.ptp(y)"
   ]
  },
  {
   "cell_type": "code",
   "execution_count": 88,
   "id": "957fba67",
   "metadata": {},
   "outputs": [
    {
     "data": {
      "text/plain": [
       "0    -5.0\n",
       "1    -1.1\n",
       "2     0.1\n",
       "3     2.0\n",
       "4     8.0\n",
       "5    12.8\n",
       "6    21.0\n",
       "7    25.8\n",
       "8    41.0\n",
       "dtype: float64"
      ]
     },
     "execution_count": 88,
     "metadata": {},
     "output_type": "execute_result"
    }
   ],
   "source": [
    "z"
   ]
  },
  {
   "cell_type": "code",
   "execution_count": 89,
   "id": "f3862318",
   "metadata": {},
   "outputs": [
    {
     "data": {
      "text/plain": [
       "46.0"
      ]
     },
     "execution_count": 89,
     "metadata": {},
     "output_type": "execute_result"
    }
   ],
   "source": [
    "np.ptp(z)"
   ]
  },
  {
   "cell_type": "code",
   "execution_count": 90,
   "id": "f588caf7",
   "metadata": {},
   "outputs": [
    {
     "data": {
      "text/plain": [
       "nan"
      ]
     },
     "execution_count": 90,
     "metadata": {},
     "output_type": "execute_result"
    }
   ],
   "source": [
    "np.ptp(y_with_nan)"
   ]
  },
  {
   "cell_type": "code",
   "execution_count": 91,
   "id": "a9d3ab64",
   "metadata": {},
   "outputs": [
    {
     "data": {
      "text/plain": [
       "nan"
      ]
     },
     "execution_count": 91,
     "metadata": {},
     "output_type": "execute_result"
    }
   ],
   "source": [
    "np.ptp(z_with_nan)"
   ]
  },
  {
   "cell_type": "markdown",
   "id": "2d11cd08",
   "metadata": {},
   "source": [
    "Fungsi ini mengembalikan nan jika ada nilai nan dalam array NumPy kita. Jika kitamenggunakan objek Pandas Series, maka itu akan mengembalikan angka.\n",
    "\n",
    "Sebagai alternatif, kita dapat menggunakan fungsi dan method Python, NumPy, atau Pandas bawaan untuk menghitung maksimum dan minimum:\n",
    "\n",
    "max() and min() from the Python standard library amax() and amin() from NumPy nanmax() and nanmin() from NumPy to ignore nan values .max() and .min() from NumPy .max() and .min() from Pandas to ignore nan values by default Berikut beberapa contoh bagaimana kita akan menggunakannya:"
   ]
  },
  {
   "cell_type": "code",
   "execution_count": 92,
   "id": "0ffd7397",
   "metadata": {},
   "outputs": [
    {
     "name": "stdout",
     "output_type": "stream",
     "text": [
      "[-5.  -1.1  0.1  2.   8.  12.8 21.  25.8 41. ]\n"
     ]
    }
   ],
   "source": [
    "print(y)"
   ]
  },
  {
   "cell_type": "code",
   "execution_count": 93,
   "id": "b9edc37d",
   "metadata": {},
   "outputs": [
    {
     "data": {
      "text/plain": [
       "46.0"
      ]
     },
     "execution_count": 93,
     "metadata": {},
     "output_type": "execute_result"
    }
   ],
   "source": [
    "np.amax(y) - np.amin(y)"
   ]
  },
  {
   "cell_type": "code",
   "execution_count": 94,
   "id": "b9b6de76",
   "metadata": {},
   "outputs": [
    {
     "data": {
      "text/plain": [
       "46.0"
      ]
     },
     "execution_count": 94,
     "metadata": {},
     "output_type": "execute_result"
    }
   ],
   "source": [
    "np.nanmax(y_with_nan) - np.nanmin(y_with_nan)"
   ]
  },
  {
   "cell_type": "code",
   "execution_count": 95,
   "id": "707e4a9d",
   "metadata": {},
   "outputs": [
    {
     "data": {
      "text/plain": [
       "46.0"
      ]
     },
     "execution_count": 95,
     "metadata": {},
     "output_type": "execute_result"
    }
   ],
   "source": [
    "y.max() - y.min()"
   ]
  },
  {
   "cell_type": "code",
   "execution_count": 96,
   "id": "54a56677",
   "metadata": {},
   "outputs": [
    {
     "data": {
      "text/plain": [
       "46.0"
      ]
     },
     "execution_count": 96,
     "metadata": {},
     "output_type": "execute_result"
    }
   ],
   "source": [
    "z.max() - z.min()"
   ]
  },
  {
   "cell_type": "code",
   "execution_count": 97,
   "id": "002960f0",
   "metadata": {},
   "outputs": [
    {
     "data": {
      "text/plain": [
       "46.0"
      ]
     },
     "execution_count": 97,
     "metadata": {},
     "output_type": "execute_result"
    }
   ],
   "source": [
    "z_with_nan.max() - z_with_nan.min()"
   ]
  },
  {
   "cell_type": "markdown",
   "id": "8f02e2ac",
   "metadata": {},
   "source": [
    "### Interquartile Range"
   ]
  },
  {
   "cell_type": "markdown",
   "id": "22a81270",
   "metadata": {},
   "source": [
    "Interquartile range adalah perbedaan antara kuartil pertama dan ketiga. Setelah kita menghitung kuartil, kita dapat mengambil selisihnya:"
   ]
  },
  {
   "cell_type": "code",
   "execution_count": 98,
   "id": "3589c0b1",
   "metadata": {},
   "outputs": [],
   "source": [
    "quartiles = np.quantile(y, [0.25, 0.75])"
   ]
  },
  {
   "cell_type": "code",
   "execution_count": 99,
   "id": "4004461a",
   "metadata": {},
   "outputs": [
    {
     "data": {
      "text/plain": [
       "20.9"
      ]
     },
     "execution_count": 99,
     "metadata": {},
     "output_type": "execute_result"
    }
   ],
   "source": [
    "quartiles[1] - quartiles[0]"
   ]
  },
  {
   "cell_type": "code",
   "execution_count": 100,
   "id": "c2b05e3f",
   "metadata": {},
   "outputs": [],
   "source": [
    "quartiles = z.quantile([0.25, 0.75])"
   ]
  },
  {
   "cell_type": "code",
   "execution_count": 101,
   "id": "ef253053",
   "metadata": {},
   "outputs": [
    {
     "data": {
      "text/plain": [
       "20.9"
      ]
     },
     "execution_count": 101,
     "metadata": {},
     "output_type": "execute_result"
    }
   ],
   "source": [
    "quartiles[0.75] - quartiles[0.25]"
   ]
  },
  {
   "cell_type": "markdown",
   "id": "9d094f62",
   "metadata": {},
   "source": [
    "## Summary of Descriptive Statistics"
   ]
  },
  {
   "cell_type": "markdown",
   "id": "ea5d6db1",
   "metadata": {},
   "source": [
    "Statistics SciPy dan Pandas menawarkan function yang berguna untuk mendapatkan descriptive statistics dengan cepat dengan satu panggilan fungsi atau method. Kita dapat menggunakan scipy.stats.describe() seperti ini:"
   ]
  },
  {
   "cell_type": "code",
   "execution_count": 102,
   "id": "42f2f58b",
   "metadata": {},
   "outputs": [
    {
     "data": {
      "text/plain": [
       "DescribeResult(nobs=9, minmax=(-5.0, 41.0), mean=11.622222222222222, variance=228.75194444444446, skewness=0.9249043136685094, kurtosis=0.14770623629658886)"
      ]
     },
     "execution_count": 102,
     "metadata": {},
     "output_type": "execute_result"
    }
   ],
   "source": [
    "result = scipy.stats.describe(y, ddof=1, bias=False)\n",
    "result"
   ]
  },
  {
   "cell_type": "markdown",
   "id": "3ac464e8",
   "metadata": {},
   "source": [
    "describe() mengembalikan objek yang berupa descriptive statistics berikut:\n",
    "- nobs: the number of observations or elements in your dataset \n",
    "- minmax: the tuple with the minimum and maximum values of your dataset \n",
    "- mean: the mean of your dataset \n",
    "- variance: the variance of your dataset \n",
    "- skewness: the skewness of your dataset \n",
    "- kurtosis: the kurtosis of your dataset \n",
    "\n",
    "Kita dapat mengakses nilai tertentu dengan dot notation:"
   ]
  },
  {
   "cell_type": "code",
   "execution_count": 103,
   "id": "e96013af",
   "metadata": {},
   "outputs": [
    {
     "data": {
      "text/plain": [
       "9"
      ]
     },
     "execution_count": 103,
     "metadata": {},
     "output_type": "execute_result"
    }
   ],
   "source": [
    "result.nobs"
   ]
  },
  {
   "cell_type": "code",
   "execution_count": 104,
   "id": "65a2b091",
   "metadata": {},
   "outputs": [
    {
     "data": {
      "text/plain": [
       "-5.0"
      ]
     },
     "execution_count": 104,
     "metadata": {},
     "output_type": "execute_result"
    }
   ],
   "source": [
    "result.minmax[0]"
   ]
  },
  {
   "cell_type": "code",
   "execution_count": 105,
   "id": "ae3fe8d1",
   "metadata": {},
   "outputs": [
    {
     "data": {
      "text/plain": [
       "41.0"
      ]
     },
     "execution_count": 105,
     "metadata": {},
     "output_type": "execute_result"
    }
   ],
   "source": [
    "result.minmax[1]"
   ]
  },
  {
   "cell_type": "code",
   "execution_count": 106,
   "id": "924bc45e",
   "metadata": {},
   "outputs": [
    {
     "data": {
      "text/plain": [
       "11.622222222222222"
      ]
     },
     "execution_count": 106,
     "metadata": {},
     "output_type": "execute_result"
    }
   ],
   "source": [
    "result.mean"
   ]
  },
  {
   "cell_type": "code",
   "execution_count": 107,
   "id": "c471df4f",
   "metadata": {},
   "outputs": [
    {
     "data": {
      "text/plain": [
       "228.75194444444446"
      ]
     },
     "execution_count": 107,
     "metadata": {},
     "output_type": "execute_result"
    }
   ],
   "source": [
    "result.variance"
   ]
  },
  {
   "cell_type": "code",
   "execution_count": 108,
   "id": "d8426225",
   "metadata": {},
   "outputs": [
    {
     "data": {
      "text/plain": [
       "0.9249043136685094"
      ]
     },
     "execution_count": 108,
     "metadata": {},
     "output_type": "execute_result"
    }
   ],
   "source": [
    "result.skewness"
   ]
  },
  {
   "cell_type": "code",
   "execution_count": 109,
   "id": "a73fc93a",
   "metadata": {},
   "outputs": [
    {
     "data": {
      "text/plain": [
       "0.14770623629658886"
      ]
     },
     "execution_count": 109,
     "metadata": {},
     "output_type": "execute_result"
    }
   ],
   "source": [
    "result.kurtosis"
   ]
  },
  {
   "cell_type": "markdown",
   "id": "6835cfc8",
   "metadata": {},
   "source": [
    "Dengan SciPy, kita hanya perlu satu panggilan fungsi dari ringkasan descriptive statistics untuk kumpulan data kita.\n",
    "\n",
    "Pandas memiliki fungsi yang serupa. Objek series memiliki metode .describe():"
   ]
  },
  {
   "cell_type": "code",
   "execution_count": 110,
   "id": "889af310",
   "metadata": {},
   "outputs": [
    {
     "data": {
      "text/plain": [
       "count     9.000000\n",
       "mean     11.622222\n",
       "std      15.124548\n",
       "min      -5.000000\n",
       "25%       0.100000\n",
       "50%       8.000000\n",
       "75%      21.000000\n",
       "max      41.000000\n",
       "dtype: float64"
      ]
     },
     "execution_count": 110,
     "metadata": {},
     "output_type": "execute_result"
    }
   ],
   "source": [
    "result = z.describe()\n",
    "result"
   ]
  },
  {
   "cell_type": "markdown",
   "id": "a5f4c9fb",
   "metadata": {},
   "source": [
    "Mengembalikan Series baru yang menampung nilai berikut:\n",
    "- count: the number of elements in your dataset\n",
    "- mean: the mean of your dataset\n",
    "- std: the standard deviation of your dataset\n",
    "- min and max: the minimum and maximum values of your dataset\n",
    "- 25%, 50%, and 75%: the quartiles of your dataset. Jika kita ingin objek Series yang dihasilkan berisi persentil lain, kita harus menentukan nilai percentiles parameter opsional. \n",
    "\n",
    "Kita dapat mengakses setiap item result dengan labelnya:"
   ]
  },
  {
   "cell_type": "code",
   "execution_count": 111,
   "id": "097a597b",
   "metadata": {},
   "outputs": [
    {
     "data": {
      "text/plain": [
       "11.622222222222222"
      ]
     },
     "execution_count": 111,
     "metadata": {},
     "output_type": "execute_result"
    }
   ],
   "source": [
    "result['mean']"
   ]
  },
  {
   "cell_type": "code",
   "execution_count": 112,
   "id": "43fb6bdf",
   "metadata": {},
   "outputs": [
    {
     "data": {
      "text/plain": [
       "15.12454774346805"
      ]
     },
     "execution_count": 112,
     "metadata": {},
     "output_type": "execute_result"
    }
   ],
   "source": [
    "result['std']"
   ]
  },
  {
   "cell_type": "code",
   "execution_count": 113,
   "id": "53fd6a36",
   "metadata": {},
   "outputs": [
    {
     "data": {
      "text/plain": [
       "-5.0"
      ]
     },
     "execution_count": 113,
     "metadata": {},
     "output_type": "execute_result"
    }
   ],
   "source": [
    "result['min']"
   ]
  },
  {
   "cell_type": "code",
   "execution_count": 114,
   "id": "a0d2ba92",
   "metadata": {},
   "outputs": [
    {
     "data": {
      "text/plain": [
       "41.0"
      ]
     },
     "execution_count": 114,
     "metadata": {},
     "output_type": "execute_result"
    }
   ],
   "source": [
    "result['max']"
   ]
  },
  {
   "cell_type": "code",
   "execution_count": 115,
   "id": "6201caad",
   "metadata": {},
   "outputs": [
    {
     "data": {
      "text/plain": [
       "0.1"
      ]
     },
     "execution_count": 115,
     "metadata": {},
     "output_type": "execute_result"
    }
   ],
   "source": [
    "result['25%']"
   ]
  },
  {
   "cell_type": "code",
   "execution_count": 116,
   "id": "db0e8e7f",
   "metadata": {},
   "outputs": [
    {
     "data": {
      "text/plain": [
       "8.0"
      ]
     },
     "execution_count": 116,
     "metadata": {},
     "output_type": "execute_result"
    }
   ],
   "source": [
    "result['50%']"
   ]
  },
  {
   "cell_type": "code",
   "execution_count": 117,
   "id": "8ca3101c",
   "metadata": {},
   "outputs": [
    {
     "data": {
      "text/plain": [
       "21.0"
      ]
     },
     "execution_count": 117,
     "metadata": {},
     "output_type": "execute_result"
    }
   ],
   "source": [
    "result['75%']"
   ]
  },
  {
   "cell_type": "markdown",
   "id": "e864ff6a",
   "metadata": {},
   "source": [
    "## Measure of Correlation"
   ]
  },
  {
   "cell_type": "markdown",
   "id": "64969a45",
   "metadata": {},
   "source": [
    "sering kali perlu memeriksa hubungan/relation antara elemen yang sesuai dari dua variabel dalam kumpulan data. Katakanlah ada dua variabel, 𝑥 dan 𝑦, dengan jumlah elemen yang sama, 𝑛. Misalkan 𝑥₁ dari 𝑥 sesuai dengan 𝑦₁ dari 𝑦, 𝑥₂ dari 𝑥 ke 𝑦₂ dari 𝑦, dan seterusnya. Kita kemudian dapat mengatakan bahwa ada 𝑛 pasang elemen yang sesuai: (𝑥₁, 𝑦₁), (𝑥₂, 𝑦₂), dan seterusnya."
   ]
  },
  {
   "cell_type": "markdown",
   "id": "7d04ffd4",
   "metadata": {},
   "source": [
    "Gambar berikut menunjukkan contoh negative, weak, dan positive correlation:\n",
    "<img src=\"https://i.ibb.co/5BLDpz5/Screen-Shot-2021-09-23-at-5-03-58-PM.png\" width=\"500\" align=\"center\">"
   ]
  },
  {
   "cell_type": "markdown",
   "id": "34585f05",
   "metadata": {},
   "source": [
    "Dua statistik yang mengukur korelasi antar dataset adalah \n",
    "**covariance** dan **correlation coefficient**.  \n",
    "\n",
    "Kita akan membuat dua list Python dan menggunakannya untuk mendapatkan array NumPy dan Series Pandas yang sesuai:"
   ]
  },
  {
   "cell_type": "code",
   "execution_count": 118,
   "id": "22a26b53",
   "metadata": {},
   "outputs": [],
   "source": [
    "x = list(range(-10, 11))\n",
    "y = [0, 2, 2, 2, 2, 3, 3, 6, 7, 4, 7, 6, 6, 9, 4, 5, 5, 10, 11, 12, 14]"
   ]
  },
  {
   "cell_type": "code",
   "execution_count": 119,
   "id": "d3380b58",
   "metadata": {},
   "outputs": [],
   "source": [
    "x_, y_ = np.array(x), np.array(y)"
   ]
  },
  {
   "cell_type": "code",
   "execution_count": 120,
   "id": "ad5baa49",
   "metadata": {},
   "outputs": [],
   "source": [
    "x__, y__ = pd.Series(x_), pd.Series(y_)"
   ]
  },
  {
   "cell_type": "code",
   "execution_count": 121,
   "id": "e1e6e021",
   "metadata": {},
   "outputs": [
    {
     "name": "stdout",
     "output_type": "stream",
     "text": [
      "[-10  -9  -8  -7  -6  -5  -4  -3  -2  -1   0   1   2   3   4   5   6   7\n",
      "   8   9  10]\n",
      "[ 0  2  2  2  2  3  3  6  7  4  7  6  6  9  4  5  5 10 11 12 14]\n",
      "0    -10\n",
      "1     -9\n",
      "2     -8\n",
      "3     -7\n",
      "4     -6\n",
      "5     -5\n",
      "6     -4\n",
      "7     -3\n",
      "8     -2\n",
      "9     -1\n",
      "10     0\n",
      "11     1\n",
      "12     2\n",
      "13     3\n",
      "14     4\n",
      "15     5\n",
      "16     6\n",
      "17     7\n",
      "18     8\n",
      "19     9\n",
      "20    10\n",
      "dtype: int32\n",
      "0      0\n",
      "1      2\n",
      "2      2\n",
      "3      2\n",
      "4      2\n",
      "5      3\n",
      "6      3\n",
      "7      6\n",
      "8      7\n",
      "9      4\n",
      "10     7\n",
      "11     6\n",
      "12     6\n",
      "13     9\n",
      "14     4\n",
      "15     5\n",
      "16     5\n",
      "17    10\n",
      "18    11\n",
      "19    12\n",
      "20    14\n",
      "dtype: int32\n"
     ]
    }
   ],
   "source": [
    "print(x_)\n",
    "print(y_)\n",
    "print(x__)\n",
    "print(y__)"
   ]
  },
  {
   "cell_type": "markdown",
   "id": "c0257ccf",
   "metadata": {},
   "source": [
    "### Covariance"
   ]
  },
  {
   "cell_type": "markdown",
   "id": "0feb3dbd",
   "metadata": {},
   "source": [
    "Sample covariance adalah ukuran yang mengukur kekuatan dan arah hubungan antara sepasang variabel:\n",
    "- Jika korelasinya positif, maka kovariansnya juga positif. Hubungan yang lebih kuat sesuai dengan nilai kovarians yang lebih tinggi.\n",
    "- Jika korelasinya negatif, maka kovariansnya juga negatif. Hubungan yang lebih kuat sesuai dengan nilai kovarians yang lebih rendah (atau lebih tinggi absolut).\n",
    "- Jika korelasinya lemah, maka kovariansnya mendekati nol.\n",
    "\n",
    "Covariance variabel 𝑥 dan 𝑦 secara matematis didefinisikan sebagai 𝑠ˣʸ = Σᵢ (𝑥ᵢ − mean(𝑥)) (𝑦ᵢ − mean(𝑦)) / (𝑛 − 1), di mana 𝑖 = 1, 2,…, 𝑛, mean (𝑥) adalah sample mean dari 𝑥, dan mean (𝑦) adalah sample mean dari 𝑦. Oleh karena itu, covariance dua variabel identik sebenarnya adalah varians: 𝑠ˣˣ = Σᵢ (𝑥ᵢ - mean (𝑥)) ² / (𝑛 - 1) = (𝑠ˣ) ² dan 𝑠ʸʸ = Σᵢ (𝑦ᵢ - mean (𝑦)) ² / (𝑛 - 1) = (𝑠ʸ) ².\n",
    "\n",
    "Beginilah cara kita menghitung kovarian dengan Python pure:"
   ]
  },
  {
   "cell_type": "code",
   "execution_count": 122,
   "id": "5bed9a6d",
   "metadata": {},
   "outputs": [
    {
     "data": {
      "text/plain": [
       "0.0"
      ]
     },
     "execution_count": 122,
     "metadata": {},
     "output_type": "execute_result"
    }
   ],
   "source": [
    "n = len(x)\n",
    "mean_x, mean_y = sum(x) / n, sum(y) / n \n",
    "mean_x"
   ]
  },
  {
   "cell_type": "code",
   "execution_count": 123,
   "id": "0c73f2bc",
   "metadata": {},
   "outputs": [
    {
     "data": {
      "text/plain": [
       "19.95"
      ]
     },
     "execution_count": 123,
     "metadata": {},
     "output_type": "execute_result"
    }
   ],
   "source": [
    "cov_xy = (sum((x[k] - mean_x) * (y[k] - mean_y) for k in range(n))\n",
    "           / (n - 1))\n",
    "cov_xy"
   ]
  },
  {
   "cell_type": "markdown",
   "id": "6de2b685",
   "metadata": {},
   "source": [
    "Pertama, kita harus mencari nilai mean dari x dan y. Kemudian, kita menerapkan rumus matematika untuk covariance.\n",
    "\n",
    "NumPy memiliki fungsi cov() yang mengembalikan covariance matrix:"
   ]
  },
  {
   "cell_type": "code",
   "execution_count": 124,
   "id": "7389aacc",
   "metadata": {},
   "outputs": [
    {
     "data": {
      "text/plain": [
       "array([[38.5       , 19.95      ],\n",
       "       [19.95      , 13.91428571]])"
      ]
     },
     "execution_count": 124,
     "metadata": {},
     "output_type": "execute_result"
    }
   ],
   "source": [
    "cov_matrix = np.cov(x_, y_)\n",
    "cov_matrix"
   ]
  },
  {
   "cell_type": "markdown",
   "id": "f7542c4d",
   "metadata": {},
   "source": [
    "cov() memiliki parameter opsional bias yang defaultnya adalah False, dan ddof yang defaultnya adalah None. Nilai defaultnya cocok untuk mendapatkan sample covariance matrix. \n",
    "\n",
    "Elemen kiri atas covariance matrix adalah covariance dari x dan x, atau variance dari x. Demikian pula, elemen kanan bawah adalah covariance y dan y, atau variance y. Kita dapat memeriksa apakah ini benar:"
   ]
  },
  {
   "cell_type": "code",
   "execution_count": 125,
   "id": "d343f9b3",
   "metadata": {},
   "outputs": [
    {
     "data": {
      "text/plain": [
       "38.5"
      ]
     },
     "execution_count": 125,
     "metadata": {},
     "output_type": "execute_result"
    }
   ],
   "source": [
    "x_.var(ddof=1)"
   ]
  },
  {
   "cell_type": "code",
   "execution_count": 126,
   "id": "a36b0ea4",
   "metadata": {},
   "outputs": [
    {
     "data": {
      "text/plain": [
       "13.914285714285711"
      ]
     },
     "execution_count": 126,
     "metadata": {},
     "output_type": "execute_result"
    }
   ],
   "source": [
    "y_.var(ddof=1)"
   ]
  },
  {
   "cell_type": "markdown",
   "id": "e5f0de22",
   "metadata": {},
   "source": [
    "varians dari x dan y sama dengan cov_matrix[0, 0] dan cov_matrix[1, 1].\n",
    "\n",
    "Dua elemen lain dari covariance matrix adalah sama dan mewakili covariance aktual antara x dan y:v"
   ]
  },
  {
   "cell_type": "code",
   "execution_count": 127,
   "id": "f2863947",
   "metadata": {},
   "outputs": [
    {
     "data": {
      "text/plain": [
       "19.95"
      ]
     },
     "execution_count": 127,
     "metadata": {},
     "output_type": "execute_result"
    }
   ],
   "source": [
    "cov_xy = cov_matrix[0, 1]\n",
    "cov_xy"
   ]
  },
  {
   "cell_type": "code",
   "execution_count": 128,
   "id": "ef5353b4",
   "metadata": {},
   "outputs": [
    {
     "data": {
      "text/plain": [
       "19.95"
      ]
     },
     "execution_count": 128,
     "metadata": {},
     "output_type": "execute_result"
    }
   ],
   "source": [
    "cov_xy = cov_matrix[1, 0]\n",
    "cov_xy"
   ]
  },
  {
   "cell_type": "markdown",
   "id": "fcfa73f9",
   "metadata": {},
   "source": [
    "Kita akan mendapatkan nilai kovarian yang sama dengan np.cov() seperti pada Python pure.\n",
    "\n",
    "Series Pandas memiliki metode .cov() yang dapat digunakan untuk menghitung kovarian:"
   ]
  },
  {
   "cell_type": "code",
   "execution_count": 129,
   "id": "155e5724",
   "metadata": {},
   "outputs": [
    {
     "data": {
      "text/plain": [
       "19.95"
      ]
     },
     "execution_count": 129,
     "metadata": {},
     "output_type": "execute_result"
    }
   ],
   "source": [
    "cov_xy = x__.cov(y__)\n",
    "cov_xy "
   ]
  },
  {
   "cell_type": "code",
   "execution_count": 130,
   "id": "69de9668",
   "metadata": {},
   "outputs": [
    {
     "data": {
      "text/plain": [
       "19.95"
      ]
     },
     "execution_count": 130,
     "metadata": {},
     "output_type": "execute_result"
    }
   ],
   "source": [
    "cov_xy = y__.cov(x__)\n",
    "cov_xy"
   ]
  },
  {
   "cell_type": "markdown",
   "id": "3175003f",
   "metadata": {},
   "source": [
    "Di sini, kita memanggil .cov() pada satu objek Series dan meneruskan objek lainnya sebagai argumen pertama."
   ]
  },
  {
   "cell_type": "markdown",
   "id": "4f96a03e",
   "metadata": {},
   "source": [
    "### Correlation Coefficient"
   ]
  },
  {
   "cell_type": "markdown",
   "id": "05b139bd",
   "metadata": {},
   "source": [
    "Correlation coefficient atau Pearson product-moment correlation coefficient dilambangkan dengan simbol 𝑟. Coefficient adalah ukuran lain dari korelasi antar data. Kita dapat menganggapnya sebagai standardized covariance."
   ]
  },
  {
   "cell_type": "markdown",
   "id": "f49ebde5",
   "metadata": {},
   "source": [
    "The value 𝑟 > 0 indicates positive correlation. The value 𝑟 < 0 indicates negative correlation. The value r = 1 is the maximum possible value of 𝑟.\n",
    "\n",
    "The value r = −1 is the minimum possible value of 𝑟. It corresponds to a perfect negative linear relationship between variables. The value r ≈ 0, or when 𝑟 is around zero, means that the correlation between variables is weak. "
   ]
  },
  {
   "cell_type": "markdown",
   "id": "425e0c80",
   "metadata": {},
   "source": [
    "Rumus matematika untuk correlation coefficient adalah 𝑟 = 𝑠ˣʸ / (𝑠ˣ𝑠ʸ) di mana 𝑠ˣ dan 𝑠ʸ masing-masing adalah standard deviations dari 𝑦 dan 𝑦. Jika kita memiliki mean (mean_x dan mean_y) dan standard deviations (std_x, std_y) \n",
    "\n",
    "untuk dataset x dan y, serta covariannya cov_xy, maka kita dapat menghitung correlation coefficient dengan Python pure:"
   ]
  },
  {
   "cell_type": "code",
   "execution_count": 131,
   "id": "bfbe58fe",
   "metadata": {},
   "outputs": [],
   "source": [
    "var_x = sum((item - mean_x)**2 for item in x) / (n - 1)"
   ]
  },
  {
   "cell_type": "code",
   "execution_count": 132,
   "id": "f606e6dd",
   "metadata": {},
   "outputs": [],
   "source": [
    "var_y = sum((item - mean_y)**2 for item in y) / (n - 1)"
   ]
  },
  {
   "cell_type": "code",
   "execution_count": 133,
   "id": "38dcbd2b",
   "metadata": {},
   "outputs": [],
   "source": [
    "std_x, std_y = var_x ** 0.5, var_y ** 0.5"
   ]
  },
  {
   "cell_type": "code",
   "execution_count": 134,
   "id": "4359d482",
   "metadata": {},
   "outputs": [
    {
     "data": {
      "text/plain": [
       "0.861950005631606"
      ]
     },
     "execution_count": 134,
     "metadata": {},
     "output_type": "execute_result"
    }
   ],
   "source": [
    "r = cov_xy / (std_x * std_y)\n",
    "r"
   ]
  },
  {
   "cell_type": "markdown",
   "id": "483e40da",
   "metadata": {},
   "source": [
    "Kita mendapatkan variabel r yang mewakili correlation coefficient.\n",
    "\n",
    "scipy.stats memiliki pearsonr() yang menghitung correlation coefficient dan the 𝑝-value:"
   ]
  },
  {
   "cell_type": "code",
   "execution_count": 135,
   "id": "0a620c90",
   "metadata": {},
   "outputs": [
    {
     "name": "stdout",
     "output_type": "stream",
     "text": [
      "0.861950005631606\n",
      "5.122760847201171e-07\n"
     ]
    }
   ],
   "source": [
    "r, p = scipy.stats.pearsonr(x_, y_)\n",
    "print(r)\n",
    "print(p)"
   ]
  },
  {
   "cell_type": "markdown",
   "id": "f856076c",
   "metadata": {},
   "source": [
    "pearsonr() mengembalikan tuple dengan dua angka. Yang pertama adalah 𝑟 dan yang kedua adalah 𝑝-value.\n",
    "\n",
    "Mirip dengan kasus covariance matrix, kita dapat menerapkan np.corrcoef() dengan x_ dan y_ sebagai argumen dan mendapatkan correlation coefficient matrix:"
   ]
  },
  {
   "cell_type": "code",
   "execution_count": 136,
   "id": "6d8fa60c",
   "metadata": {},
   "outputs": [
    {
     "data": {
      "text/plain": [
       "array([[1.        , 0.86195001],\n",
       "       [0.86195001, 1.        ]])"
      ]
     },
     "execution_count": 136,
     "metadata": {},
     "output_type": "execute_result"
    }
   ],
   "source": [
    "corr_matrix = np.corrcoef(x_, y_)\n",
    "corr_matrix"
   ]
  },
  {
   "cell_type": "markdown",
   "id": "2fa5bc1f",
   "metadata": {},
   "source": [
    "Elemen kiri atas adalah correlation coefficient antara x_ dan x_. Elemen kanan bawah adalah correlation coefficient antara y_ dan y_. Nilainya sama dengan 1.0. Dua elemen lainnya sama dan mewakili koefisien korelasi aktual antara x_ dan y_:"
   ]
  },
  {
   "cell_type": "code",
   "execution_count": 137,
   "id": "21e56758",
   "metadata": {},
   "outputs": [
    {
     "data": {
      "text/plain": [
       "0.8619500056316061"
      ]
     },
     "execution_count": 137,
     "metadata": {},
     "output_type": "execute_result"
    }
   ],
   "source": [
    "r = corr_matrix[0, 1]\n",
    "r"
   ]
  },
  {
   "cell_type": "code",
   "execution_count": 138,
   "id": "66d9b3f4",
   "metadata": {},
   "outputs": [
    {
     "data": {
      "text/plain": [
       "0.861950005631606"
      ]
     },
     "execution_count": 138,
     "metadata": {},
     "output_type": "execute_result"
    }
   ],
   "source": [
    "r = corr_matrix[1, 0]\n",
    "r"
   ]
  },
  {
   "cell_type": "markdown",
   "id": "25f80dd0",
   "metadata": {},
   "source": [
    "Tentu saja, hasilnya sama dengan Python pure dan pearsonr().\n",
    "\n",
    "Kita bisa mendapatkan correlation coefficient dengan scipy.stats.linregress():"
   ]
  },
  {
   "cell_type": "code",
   "execution_count": 139,
   "id": "e64576db",
   "metadata": {},
   "outputs": [
    {
     "data": {
      "text/plain": [
       "LinregressResult(slope=0.5181818181818181, intercept=5.714285714285714, rvalue=0.861950005631606, pvalue=5.122760847201164e-07, stderr=0.06992387660074979, intercept_stderr=0.4234100995002589)"
      ]
     },
     "execution_count": 139,
     "metadata": {},
     "output_type": "execute_result"
    }
   ],
   "source": [
    "scipy.stats.linregress(x_, y_)"
   ]
  },
  {
   "cell_type": "markdown",
   "id": "4409e4d4",
   "metadata": {},
   "source": [
    "linregress() mengambil x_ dan y_, melakukan regresi linier, dan mengembalikan hasilnya. slope dan intercept menentukan persamaan regression line, sedangkan rvalue adalah correlation coefficient. Untuk mengakses nilai tertentu dari hasil linregress(), termasuk correlation coefficient, gunakan dot notation:"
   ]
  },
  {
   "cell_type": "code",
   "execution_count": 140,
   "id": "8b91816d",
   "metadata": {},
   "outputs": [
    {
     "data": {
      "text/plain": [
       "0.861950005631606"
      ]
     },
     "execution_count": 140,
     "metadata": {},
     "output_type": "execute_result"
    }
   ],
   "source": [
    "result = scipy.stats.linregress(x_, y_)\n",
    "r = result.rvalue\n",
    "r"
   ]
  },
  {
   "cell_type": "markdown",
   "id": "d6410eea",
   "metadata": {},
   "source": [
    "Series Pandas memiliki method .corr() untuk menghitung correlation coefficient:"
   ]
  },
  {
   "cell_type": "code",
   "execution_count": 141,
   "id": "e4c1ec87",
   "metadata": {},
   "outputs": [
    {
     "data": {
      "text/plain": [
       "0.8619500056316061"
      ]
     },
     "execution_count": 141,
     "metadata": {},
     "output_type": "execute_result"
    }
   ],
   "source": [
    "r = x__.corr(y__)\n",
    "r"
   ]
  },
  {
   "cell_type": "code",
   "execution_count": 142,
   "id": "f0c01561",
   "metadata": {},
   "outputs": [
    {
     "data": {
      "text/plain": [
       "0.861950005631606"
      ]
     },
     "execution_count": 142,
     "metadata": {},
     "output_type": "execute_result"
    }
   ],
   "source": [
    "r = y__.corr(x__)\n",
    "r"
   ]
  },
  {
   "cell_type": "markdown",
   "id": "5b24dcb2",
   "metadata": {},
   "source": [
    "# Working With 2D Data"
   ]
  },
  {
   "cell_type": "markdown",
   "id": "4925562d",
   "metadata": {},
   "source": [
    "NumPy dan SciPy menyediakan cara yang komprehensif untuk bekerja dengan data 2D. Panda memiliki kelas DataFrame khusus untuk menangani 2D labeled data."
   ]
  },
  {
   "cell_type": "markdown",
   "id": "1ab43b22",
   "metadata": {},
   "source": [
    "## Axes"
   ]
  },
  {
   "cell_type": "markdown",
   "id": "6108e334",
   "metadata": {},
   "source": [
    "Start by creating a 2D NumPy array:"
   ]
  },
  {
   "cell_type": "code",
   "execution_count": 143,
   "id": "1877f564",
   "metadata": {},
   "outputs": [
    {
     "data": {
      "text/plain": [
       "array([[ 1,  1,  1],\n",
       "       [ 2,  3,  1],\n",
       "       [ 4,  9,  2],\n",
       "       [ 8, 27,  4],\n",
       "       [16,  1,  1]])"
      ]
     },
     "execution_count": 143,
     "metadata": {},
     "output_type": "execute_result"
    }
   ],
   "source": [
    "a = np.array([[1, 1, 1],\n",
    "               [2, 3, 1],\n",
    "               [4, 9, 2],\n",
    "               [8, 27, 4],\n",
    "               [16, 1, 1]])\n",
    "a"
   ]
  },
  {
   "cell_type": "markdown",
   "id": "84f2142e",
   "metadata": {},
   "source": [
    "Kita dapat menerapkan fungsi dan metode statistik Python ke dalamnya seperti yang kita lakukan pada data 1D:"
   ]
  },
  {
   "cell_type": "code",
   "execution_count": 144,
   "id": "125aee0b",
   "metadata": {},
   "outputs": [
    {
     "data": {
      "text/plain": [
       "53.40000000000001"
      ]
     },
     "execution_count": 144,
     "metadata": {},
     "output_type": "execute_result"
    }
   ],
   "source": [
    "np.mean(a)\n",
    "a.mean()\n",
    "np.median(a)\n",
    "a.var(ddof=1)"
   ]
  },
  {
   "cell_type": "markdown",
   "id": "a7b638bb",
   "metadata": {},
   "source": [
    "Fungsi dan metode yang kita gunakan sejauh ini memiliki satu parameter opsional yang disebut axis, yang penting untuk menangani data 2D. axis dapat mengambil salah satu dari nilai berikut:\n",
    "- axis=None says to calculate the statistics across all data in the array. The examples above work like this. This behavior is often the default in NumPy. \n",
    "- axis=0 says to calculate the statistics across all rows, that is, for each column of the array. This behavior is often the default for SciPy statistical functions. \n",
    "- axis=1 says to calculate the statistics across all columns, that is, for each row of the array. \n",
    "\n",
    "Let’s see axis=0 in action with np.mean():"
   ]
  },
  {
   "cell_type": "code",
   "execution_count": 146,
   "id": "fb7b102c",
   "metadata": {},
   "outputs": [
    {
     "data": {
      "text/plain": [
       "array([[ 1,  1,  1],\n",
       "       [ 2,  3,  1],\n",
       "       [ 4,  9,  2],\n",
       "       [ 8, 27,  4],\n",
       "       [16,  1,  1]])"
      ]
     },
     "execution_count": 146,
     "metadata": {},
     "output_type": "execute_result"
    }
   ],
   "source": [
    "a"
   ]
  },
  {
   "cell_type": "code",
   "execution_count": 145,
   "id": "e4de9868",
   "metadata": {},
   "outputs": [
    {
     "data": {
      "text/plain": [
       "array([6.2, 8.2, 1.8])"
      ]
     },
     "execution_count": 145,
     "metadata": {},
     "output_type": "execute_result"
    }
   ],
   "source": [
    "np.mean(a, axis=0)\n",
    "a.mean(axis=0)"
   ]
  },
  {
   "cell_type": "markdown",
   "id": "93b450ea",
   "metadata": {},
   "source": [
    "Dalam contoh ini, mean dari kolom pertama adalah 6.2. Kolom kedua memiliki mean 8.2, sedangkan kolom ketiga memiliki 1.8.\n",
    "\n",
    "Jika kita memberikan axis=1 pada mean(), kita akan mendapatkan hasil untuk setiap baris:"
   ]
  },
  {
   "cell_type": "code",
   "execution_count": 147,
   "id": "6a11a89b",
   "metadata": {},
   "outputs": [
    {
     "data": {
      "text/plain": [
       "array([ 1.,  2.,  5., 13.,  6.])"
      ]
     },
     "execution_count": 147,
     "metadata": {},
     "output_type": "execute_result"
    }
   ],
   "source": [
    "np.mean(a, axis=1)\n",
    "a.mean(axis=1)"
   ]
  },
  {
   "cell_type": "markdown",
   "id": "293873fb",
   "metadata": {},
   "source": [
    "Seperti yang kita lihat, baris pertama a memiliki mean 1.0, baris kedua 2.0, dan seterusnya.\n",
    "\n",
    "axis parameter bekerja dengan cara yang sama dengan fungsi dan metode NumPy lainnya:"
   ]
  },
  {
   "cell_type": "code",
   "execution_count": 148,
   "id": "4b6d74b0",
   "metadata": {},
   "outputs": [
    {
     "data": {
      "text/plain": [
       "array([4., 3., 1.])"
      ]
     },
     "execution_count": 148,
     "metadata": {},
     "output_type": "execute_result"
    }
   ],
   "source": [
    "np.median(a, axis=0)"
   ]
  },
  {
   "cell_type": "code",
   "execution_count": 149,
   "id": "7c1255a6",
   "metadata": {},
   "outputs": [
    {
     "data": {
      "text/plain": [
       "array([1., 2., 4., 8., 1.])"
      ]
     },
     "execution_count": 149,
     "metadata": {},
     "output_type": "execute_result"
    }
   ],
   "source": [
    "np.median(a, axis=1)"
   ]
  },
  {
   "cell_type": "code",
   "execution_count": 150,
   "id": "005dcb60",
   "metadata": {},
   "outputs": [
    {
     "data": {
      "text/plain": [
       "array([ 37.2, 121.2,   1.7])"
      ]
     },
     "execution_count": 150,
     "metadata": {},
     "output_type": "execute_result"
    }
   ],
   "source": [
    "a.var(axis=0, ddof=1)"
   ]
  },
  {
   "cell_type": "code",
   "execution_count": 151,
   "id": "f8646492",
   "metadata": {},
   "outputs": [
    {
     "data": {
      "text/plain": [
       "array([  0.,   1.,  13., 151.,  75.])"
      ]
     },
     "execution_count": 151,
     "metadata": {},
     "output_type": "execute_result"
    }
   ],
   "source": [
    "a.var(axis=1, ddof=1)"
   ]
  },
  {
   "cell_type": "markdown",
   "id": "9b46e132",
   "metadata": {},
   "source": [
    "Kita mendapatkan medians dan sample variations untuk semua kolom (axis=0)) dan baris (axis=1) dari array a.\n",
    "\n",
    "Ini sangat mirip saat kita bekerja dengan fungsi statistik SciPy. Tetapi ingat bahwa dalam kasus ini, nilai default untuk axis adalah 0:"
   ]
  },
  {
   "cell_type": "code",
   "execution_count": 152,
   "id": "cb3d7df1",
   "metadata": {},
   "outputs": [
    {
     "data": {
      "text/plain": [
       "array([4.        , 3.73719282, 1.51571657])"
      ]
     },
     "execution_count": 152,
     "metadata": {},
     "output_type": "execute_result"
    }
   ],
   "source": [
    "scipy.stats.gmean(a)  # Default: axis=0"
   ]
  },
  {
   "cell_type": "code",
   "execution_count": 153,
   "id": "1bdd42e9",
   "metadata": {},
   "outputs": [
    {
     "data": {
      "text/plain": [
       "array([4.        , 3.73719282, 1.51571657])"
      ]
     },
     "execution_count": 153,
     "metadata": {},
     "output_type": "execute_result"
    }
   ],
   "source": [
    "scipy.stats.gmean(a, axis=0)"
   ]
  },
  {
   "cell_type": "code",
   "execution_count": 154,
   "id": "354f34e6",
   "metadata": {},
   "outputs": [
    {
     "data": {
      "text/plain": [
       "array([1.        , 1.81712059, 4.16016765, 9.52440631, 2.5198421 ])"
      ]
     },
     "execution_count": 154,
     "metadata": {},
     "output_type": "execute_result"
    }
   ],
   "source": [
    " scipy.stats.gmean(a, axis=1)"
   ]
  },
  {
   "cell_type": "markdown",
   "id": "7590d12c",
   "metadata": {},
   "source": [
    "Jika Anda menginginkan statistik untuk seluruh dataset, maka Anda harus menyediakan axis=None:"
   ]
  },
  {
   "cell_type": "code",
   "execution_count": 155,
   "id": "7456fd2a",
   "metadata": {},
   "outputs": [
    {
     "data": {
      "text/plain": [
       "2.829705017016332"
      ]
     },
     "execution_count": 155,
     "metadata": {},
     "output_type": "execute_result"
    }
   ],
   "source": [
    "scipy.stats.gmean(a, axis=None)"
   ]
  },
  {
   "cell_type": "markdown",
   "id": "f451f2c6",
   "metadata": {},
   "source": [
    "Geometric mean dari semua item dalam array a adalah kira-kira 2.83."
   ]
  },
  {
   "cell_type": "markdown",
   "id": "d59d8088",
   "metadata": {},
   "source": [
    "Kita bisa mendapatkan statistics summary dengan satu panggilan fungsi untuk data 2D dengan scipy.stats.describe(). Ini berfungsi mirip dengan array 1D, tetapi kita harus berhati-hati dengan axisparameter:"
   ]
  },
  {
   "cell_type": "code",
   "execution_count": 156,
   "id": "aff9c72a",
   "metadata": {},
   "outputs": [
    {
     "data": {
      "text/plain": [
       "DescribeResult(nobs=15, minmax=(1, 27), mean=5.4, variance=53.40000000000001, skewness=2.264965290423389, kurtosis=5.212690982795767)"
      ]
     },
     "execution_count": 156,
     "metadata": {},
     "output_type": "execute_result"
    }
   ],
   "source": [
    "scipy.stats.describe(a, axis=None, ddof=1, bias=False)"
   ]
  },
  {
   "cell_type": "code",
   "execution_count": 157,
   "id": "fb11dc83",
   "metadata": {},
   "outputs": [
    {
     "data": {
      "text/plain": [
       "DescribeResult(nobs=5, minmax=(array([1, 1, 1]), array([16, 27,  4])), mean=array([6.2, 8.2, 1.8]), variance=array([ 37.2, 121.2,   1.7]), skewness=array([1.32531471, 1.79809454, 1.71439233]), kurtosis=array([1.30376344, 3.14969121, 2.66435986]))"
      ]
     },
     "execution_count": 157,
     "metadata": {},
     "output_type": "execute_result"
    }
   ],
   "source": [
    "scipy.stats.describe(a, ddof=1, bias=False)  # Default: axis=0"
   ]
  },
  {
   "cell_type": "code",
   "execution_count": 158,
   "id": "4118ffbc",
   "metadata": {},
   "outputs": [
    {
     "data": {
      "text/plain": [
       "DescribeResult(nobs=3, minmax=(array([1, 1, 2, 4, 1]), array([ 1,  3,  9, 27, 16])), mean=array([ 1.,  2.,  5., 13.,  6.]), variance=array([  0.,   1.,  13., 151.,  75.]), skewness=array([0.        , 0.        , 1.15206964, 1.52787436, 1.73205081]), kurtosis=array([-3. , -1.5, -1.5, -1.5, -1.5]))"
      ]
     },
     "execution_count": 158,
     "metadata": {},
     "output_type": "execute_result"
    }
   ],
   "source": [
    "scipy.stats.describe(a, axis=1, ddof=1, bias=False)"
   ]
  },
  {
   "cell_type": "markdown",
   "id": "ee1c8123",
   "metadata": {},
   "source": [
    "Kita bisa mendapatkan nilai tertentu dari ringkasan dengan dot notation:"
   ]
  },
  {
   "cell_type": "code",
   "execution_count": 159,
   "id": "dd9565de",
   "metadata": {},
   "outputs": [
    {
     "data": {
      "text/plain": [
       "array([ 1.,  2.,  5., 13.,  6.])"
      ]
     },
     "execution_count": 159,
     "metadata": {},
     "output_type": "execute_result"
    }
   ],
   "source": [
    "result = scipy.stats.describe(a, axis=1, ddof=1, bias=False)\n",
    "result.mean"
   ]
  },
  {
   "cell_type": "markdown",
   "id": "0f92b084",
   "metadata": {},
   "source": [
    "DataFrames Kelas DataFrame adalah salah satu tipe data fundamental Pandas. DataFrame sangat nyaman digunakan karena memiliki label untuk baris dan kolom. Gunakan array a dan buat DataFrame:"
   ]
  },
  {
   "cell_type": "code",
   "execution_count": 160,
   "id": "60b60636",
   "metadata": {},
   "outputs": [],
   "source": [
    "row_names = ['first', 'second', 'third', 'fourth', 'fifth']\n",
    "col_names = ['A', 'B', 'C']"
   ]
  },
  {
   "cell_type": "code",
   "execution_count": 161,
   "id": "a0ed4054",
   "metadata": {},
   "outputs": [
    {
     "data": {
      "text/html": [
       "<div>\n",
       "<style scoped>\n",
       "    .dataframe tbody tr th:only-of-type {\n",
       "        vertical-align: middle;\n",
       "    }\n",
       "\n",
       "    .dataframe tbody tr th {\n",
       "        vertical-align: top;\n",
       "    }\n",
       "\n",
       "    .dataframe thead th {\n",
       "        text-align: right;\n",
       "    }\n",
       "</style>\n",
       "<table border=\"1\" class=\"dataframe\">\n",
       "  <thead>\n",
       "    <tr style=\"text-align: right;\">\n",
       "      <th></th>\n",
       "      <th>A</th>\n",
       "      <th>B</th>\n",
       "      <th>C</th>\n",
       "    </tr>\n",
       "  </thead>\n",
       "  <tbody>\n",
       "    <tr>\n",
       "      <th>first</th>\n",
       "      <td>1</td>\n",
       "      <td>1</td>\n",
       "      <td>1</td>\n",
       "    </tr>\n",
       "    <tr>\n",
       "      <th>second</th>\n",
       "      <td>2</td>\n",
       "      <td>3</td>\n",
       "      <td>1</td>\n",
       "    </tr>\n",
       "    <tr>\n",
       "      <th>third</th>\n",
       "      <td>4</td>\n",
       "      <td>9</td>\n",
       "      <td>2</td>\n",
       "    </tr>\n",
       "    <tr>\n",
       "      <th>fourth</th>\n",
       "      <td>8</td>\n",
       "      <td>27</td>\n",
       "      <td>4</td>\n",
       "    </tr>\n",
       "    <tr>\n",
       "      <th>fifth</th>\n",
       "      <td>16</td>\n",
       "      <td>1</td>\n",
       "      <td>1</td>\n",
       "    </tr>\n",
       "  </tbody>\n",
       "</table>\n",
       "</div>"
      ],
      "text/plain": [
       "         A   B  C\n",
       "first    1   1  1\n",
       "second   2   3  1\n",
       "third    4   9  2\n",
       "fourth   8  27  4\n",
       "fifth   16   1  1"
      ]
     },
     "execution_count": 161,
     "metadata": {},
     "output_type": "execute_result"
    }
   ],
   "source": [
    "df = pd.DataFrame(a, index=row_names, columns=col_names)\n",
    "df"
   ]
  },
  {
   "cell_type": "markdown",
   "id": "59b6b006",
   "metadata": {},
   "source": [
    "Metode DataFrame sangat mirip dengan metode Series, meskipun perilakunya berbeda. Jika kita memanggil metode statistics Python tanpa argumen, maka DataFrame akan mengembalikan hasil untuk setiap kolom:"
   ]
  },
  {
   "cell_type": "code",
   "execution_count": 162,
   "id": "c874ea13",
   "metadata": {},
   "outputs": [
    {
     "data": {
      "text/plain": [
       "A    6.2\n",
       "B    8.2\n",
       "C    1.8\n",
       "dtype: float64"
      ]
     },
     "execution_count": 162,
     "metadata": {},
     "output_type": "execute_result"
    }
   ],
   "source": [
    "df.mean()"
   ]
  },
  {
   "cell_type": "code",
   "execution_count": 163,
   "id": "5415bed8",
   "metadata": {},
   "outputs": [
    {
     "data": {
      "text/plain": [
       "A     37.2\n",
       "B    121.2\n",
       "C      1.7\n",
       "dtype: float64"
      ]
     },
     "execution_count": 163,
     "metadata": {},
     "output_type": "execute_result"
    }
   ],
   "source": [
    "df.var()"
   ]
  },
  {
   "cell_type": "markdown",
   "id": "8d3d5408",
   "metadata": {},
   "source": [
    "Jika kita menginginkan hasil untuk setiap baris, maka tentukan parameter axis=1:"
   ]
  },
  {
   "cell_type": "code",
   "execution_count": 164,
   "id": "688ee3d2",
   "metadata": {},
   "outputs": [
    {
     "data": {
      "text/plain": [
       "first      1.0\n",
       "second     2.0\n",
       "third      5.0\n",
       "fourth    13.0\n",
       "fifth      6.0\n",
       "dtype: float64"
      ]
     },
     "execution_count": 164,
     "metadata": {},
     "output_type": "execute_result"
    }
   ],
   "source": [
    "df.mean(axis=1)"
   ]
  },
  {
   "cell_type": "code",
   "execution_count": 165,
   "id": "78b470dd",
   "metadata": {},
   "outputs": [
    {
     "data": {
      "text/plain": [
       "first       0.0\n",
       "second      1.0\n",
       "third      13.0\n",
       "fourth    151.0\n",
       "fifth      75.0\n",
       "dtype: float64"
      ]
     },
     "execution_count": 165,
     "metadata": {},
     "output_type": "execute_result"
    }
   ],
   "source": [
    "df.var(axis=1)"
   ]
  },
  {
   "cell_type": "markdown",
   "id": "9f1b7a8b",
   "metadata": {},
   "source": [
    "Kita dapat mengisolasi setiap kolom DataFrame seperti ini:"
   ]
  },
  {
   "cell_type": "code",
   "execution_count": 166,
   "id": "1f0bcf23",
   "metadata": {},
   "outputs": [
    {
     "data": {
      "text/plain": [
       "first      1\n",
       "second     2\n",
       "third      4\n",
       "fourth     8\n",
       "fifth     16\n",
       "Name: A, dtype: int32"
      ]
     },
     "execution_count": 166,
     "metadata": {},
     "output_type": "execute_result"
    }
   ],
   "source": [
    "df['A']"
   ]
  },
  {
   "cell_type": "code",
   "execution_count": 167,
   "id": "d3c0bfbd",
   "metadata": {},
   "outputs": [
    {
     "data": {
      "text/plain": [
       "6.2"
      ]
     },
     "execution_count": 167,
     "metadata": {},
     "output_type": "execute_result"
    }
   ],
   "source": [
    "df['A'].mean()"
   ]
  },
  {
   "cell_type": "code",
   "execution_count": 168,
   "id": "4b9e8996",
   "metadata": {},
   "outputs": [
    {
     "data": {
      "text/plain": [
       "37.20000000000001"
      ]
     },
     "execution_count": 168,
     "metadata": {},
     "output_type": "execute_result"
    }
   ],
   "source": [
    "df['A'].var()"
   ]
  },
  {
   "cell_type": "markdown",
   "id": "a0bda444",
   "metadata": {},
   "source": [
    "Terkadang, kita mungkin ingin menggunakan DataFrame sebagai array NumPy dan menerapkan beberapa fungsi padanya. Dimungkinkan untuk mendapatkan semua data dari DataFrame dengan .values atau .to_numpy():"
   ]
  },
  {
   "cell_type": "code",
   "execution_count": 169,
   "id": "d67af0e1",
   "metadata": {},
   "outputs": [
    {
     "data": {
      "text/plain": [
       "array([[ 1,  1,  1],\n",
       "       [ 2,  3,  1],\n",
       "       [ 4,  9,  2],\n",
       "       [ 8, 27,  4],\n",
       "       [16,  1,  1]])"
      ]
     },
     "execution_count": 169,
     "metadata": {},
     "output_type": "execute_result"
    }
   ],
   "source": [
    "df.values"
   ]
  },
  {
   "cell_type": "code",
   "execution_count": 170,
   "id": "255e7fd8",
   "metadata": {},
   "outputs": [
    {
     "data": {
      "text/plain": [
       "array([[ 1,  1,  1],\n",
       "       [ 2,  3,  1],\n",
       "       [ 4,  9,  2],\n",
       "       [ 8, 27,  4],\n",
       "       [16,  1,  1]])"
      ]
     },
     "execution_count": 170,
     "metadata": {},
     "output_type": "execute_result"
    }
   ],
   "source": [
    "df.to_numpy()"
   ]
  },
  {
   "cell_type": "markdown",
   "id": "9cad5d3d",
   "metadata": {},
   "source": [
    "df.values dan df.to_numpy() memberi kita array NumPy dengan semua item dari DataFrame tanpa label baris dan kolom.\n",
    "\n",
    "df.to_numpy() lebih fleksibel karena kita bisa menentukan tipe data item dan apakah kita ingin menggunakan data yang ada atau menyalinnya."
   ]
  },
  {
   "cell_type": "markdown",
   "id": "02edeb4f",
   "metadata": {},
   "source": [
    "Seperti series, objek DataFrame memiliki metode .describe() yang mengembalikan DataFrame lain dengan statistics summary untuk semua kolom:"
   ]
  },
  {
   "cell_type": "code",
   "execution_count": 171,
   "id": "a02f531a",
   "metadata": {},
   "outputs": [
    {
     "data": {
      "text/html": [
       "<div>\n",
       "<style scoped>\n",
       "    .dataframe tbody tr th:only-of-type {\n",
       "        vertical-align: middle;\n",
       "    }\n",
       "\n",
       "    .dataframe tbody tr th {\n",
       "        vertical-align: top;\n",
       "    }\n",
       "\n",
       "    .dataframe thead th {\n",
       "        text-align: right;\n",
       "    }\n",
       "</style>\n",
       "<table border=\"1\" class=\"dataframe\">\n",
       "  <thead>\n",
       "    <tr style=\"text-align: right;\">\n",
       "      <th></th>\n",
       "      <th>A</th>\n",
       "      <th>B</th>\n",
       "      <th>C</th>\n",
       "    </tr>\n",
       "  </thead>\n",
       "  <tbody>\n",
       "    <tr>\n",
       "      <th>count</th>\n",
       "      <td>5.00000</td>\n",
       "      <td>5.000000</td>\n",
       "      <td>5.00000</td>\n",
       "    </tr>\n",
       "    <tr>\n",
       "      <th>mean</th>\n",
       "      <td>6.20000</td>\n",
       "      <td>8.200000</td>\n",
       "      <td>1.80000</td>\n",
       "    </tr>\n",
       "    <tr>\n",
       "      <th>std</th>\n",
       "      <td>6.09918</td>\n",
       "      <td>11.009087</td>\n",
       "      <td>1.30384</td>\n",
       "    </tr>\n",
       "    <tr>\n",
       "      <th>min</th>\n",
       "      <td>1.00000</td>\n",
       "      <td>1.000000</td>\n",
       "      <td>1.00000</td>\n",
       "    </tr>\n",
       "    <tr>\n",
       "      <th>25%</th>\n",
       "      <td>2.00000</td>\n",
       "      <td>1.000000</td>\n",
       "      <td>1.00000</td>\n",
       "    </tr>\n",
       "    <tr>\n",
       "      <th>50%</th>\n",
       "      <td>4.00000</td>\n",
       "      <td>3.000000</td>\n",
       "      <td>1.00000</td>\n",
       "    </tr>\n",
       "    <tr>\n",
       "      <th>75%</th>\n",
       "      <td>8.00000</td>\n",
       "      <td>9.000000</td>\n",
       "      <td>2.00000</td>\n",
       "    </tr>\n",
       "    <tr>\n",
       "      <th>max</th>\n",
       "      <td>16.00000</td>\n",
       "      <td>27.000000</td>\n",
       "      <td>4.00000</td>\n",
       "    </tr>\n",
       "  </tbody>\n",
       "</table>\n",
       "</div>"
      ],
      "text/plain": [
       "              A          B        C\n",
       "count   5.00000   5.000000  5.00000\n",
       "mean    6.20000   8.200000  1.80000\n",
       "std     6.09918  11.009087  1.30384\n",
       "min     1.00000   1.000000  1.00000\n",
       "25%     2.00000   1.000000  1.00000\n",
       "50%     4.00000   3.000000  1.00000\n",
       "75%     8.00000   9.000000  2.00000\n",
       "max    16.00000  27.000000  4.00000"
      ]
     },
     "execution_count": 171,
     "metadata": {},
     "output_type": "execute_result"
    }
   ],
   "source": [
    "df.describe()"
   ]
  },
  {
   "cell_type": "markdown",
   "id": "ed39e88a",
   "metadata": {},
   "source": [
    "Ringkasan tersebut berisi hasil sebagai berikut:\n",
    "* count: the number of items in each column\n",
    "* mean: the mean of each column\n",
    "* std: the standard deviation\n",
    "* min and max: the minimum and maximum values\n",
    "* 25%, 50%, and 75%: the percentiles\n",
    "\n",
    "Jika kita ingin objek DataFrame yang dihasilkan berisi persentil lain, kita harus menentukan nilai parameter opsional percentiles.\n",
    "\n",
    "Kita dapat mengakses setiap item summary seperti ini:"
   ]
  },
  {
   "cell_type": "code",
   "execution_count": 172,
   "id": "96fd5116",
   "metadata": {},
   "outputs": [
    {
     "data": {
      "text/plain": [
       "6.2"
      ]
     },
     "execution_count": 172,
     "metadata": {},
     "output_type": "execute_result"
    }
   ],
   "source": [
    "df.describe().at['mean', 'A']"
   ]
  },
  {
   "cell_type": "code",
   "execution_count": 173,
   "id": "272d9e17",
   "metadata": {},
   "outputs": [
    {
     "data": {
      "text/plain": [
       "3.0"
      ]
     },
     "execution_count": 173,
     "metadata": {},
     "output_type": "execute_result"
    }
   ],
   "source": [
    "df.describe().at['50%', 'B']"
   ]
  },
  {
   "cell_type": "markdown",
   "id": "5caaf6b7",
   "metadata": {},
   "source": [
    "## Memvisualisasikan Data"
   ]
  },
  {
   "cell_type": "code",
   "execution_count": 174,
   "id": "7fb796e7",
   "metadata": {},
   "outputs": [],
   "source": [
    "import matplotlib.pyplot as plt\n",
    "plt.style.use('ggplot')"
   ]
  },
  {
   "cell_type": "markdown",
   "id": "38b6f964",
   "metadata": {},
   "source": [
    "Modul np.random menghasilkan array angka pseudo-acak:\n",
    "- Nomor yang didistribusikan secara normal dihasilkan dengan np.random.randn()\n",
    "- Bilangan bulat yang didistribusikan secara seragam dihasilkan dengan np.random.randint()"
   ]
  },
  {
   "cell_type": "markdown",
   "id": "38a01ede",
   "metadata": {},
   "source": [
    "### Box Plots"
   ]
  },
  {
   "cell_type": "markdown",
   "id": "7df5f9e5",
   "metadata": {},
   "source": [
    "Box plot menunjukkan jangkauan, jangkauan interkuartil, median, modus, outlier, dan semua kuartil. Pertama, buat beberapa data untuk direpresentasikan dengan plot kotak :"
   ]
  },
  {
   "cell_type": "code",
   "execution_count": 175,
   "id": "d452ad89",
   "metadata": {},
   "outputs": [],
   "source": [
    "np.random.seed(seed=0)\n",
    "x = np.random.randn(1000)\n",
    "y = np.random.randn(100)\n",
    "z = np.random.randn(10)"
   ]
  },
  {
   "cell_type": "markdown",
   "id": "37da004e",
   "metadata": {},
   "source": [
    "Pernyataan lain menghasilkan tiga array NumPy dengan nomor pseudo-acak terdistribusi normal. x mengacu pada larik dengan 1000 item, y memiliki 100, dan z berisi 10 item. Sekarang setelah Anda memiliki data untuk dikerjakan, Anda dapat menerapkan .boxplot() untuk mendapatkan plot kotak:"
   ]
  },
  {
   "cell_type": "code",
   "execution_count": 176,
   "id": "bd13f5c2",
   "metadata": {},
   "outputs": [
    {
     "data": {
      "image/png": "[encoded data removed]",
      "text/plain": [
       "<Figure size 432x288 with 1 Axes>"
      ]
     },
     "metadata": {},
     "output_type": "display_data"
    }
   ],
   "source": [
    "fig, ax = plt.subplots()\n",
    "ax.boxplot((x, y, z), vert=False, showmeans=True, meanline=True,           \n",
    "           labels=('x', 'y', 'z'), patch_artist=True,           \n",
    "           medianprops={'linewidth': 2, 'color': 'purple'},           \n",
    "           meanprops={'linewidth': 2, 'color': 'red'})\n",
    "plt.show()"
   ]
  },
  {
   "cell_type": "markdown",
   "id": "6aa62f39",
   "metadata": {},
   "source": [
    "The parameters of .boxplot() define the following:\n",
    "- x adalah data. \n",
    "- vert mengatur orientasi plot ke horizontal ketika False (Orientasi default adalah vertikal) \n",
    "- showmeans menunjukkan rata-rata data Anda ketika Benar. \n",
    "- meanline mewakili mean sebagai garis ketika Benar (Representasi default adalah titik) \n",
    "- labels: label data Anda. \n",
    "- patch_artist menentukan cara menggambar grafik. \n",
    "- medianprops menunjukkan sifat-sifat garis yang mewakili median. \n",
    "- meanprops menunjukkan sifat-sifat garis atau titik yang mewakili mean"
   ]
  },
  {
   "cell_type": "markdown",
   "id": "cf146833",
   "metadata": {},
   "source": [
    "Kita dapat melihat tiga plot kotak. Masing-masing sesuai dengan satu set data (x, y, atau z) dan menunjukkan hal berikut:\n",
    "- Mean adalah garis putus-putus merah. \n",
    "- Median adalah garis ungu. Kuartil pertama adalah tepi kiri persegi panjang biru. \n",
    "- Kuartil ketiga adalah tepi kanan persegi panjang biru. \n",
    "- Jangkauan antarkuartil adalah panjang persegi panjang biru. \n",
    "- Rentang berisi semuanya dari kiri ke kanan. \n",
    "- Outlier adalah titik-titik di kiri dan kanan."
   ]
  },
  {
   "cell_type": "markdown",
   "id": "7405d358",
   "metadata": {},
   "source": [
    "### Histogram"
   ]
  },
  {
   "cell_type": "markdown",
   "id": "110f1920",
   "metadata": {},
   "source": [
    " Histogram sangat berguna ketika ada sejumlah besar nilai unik dalam kumpulan data. Histogram membagi nilai dari kumpulan data yang diurutkan ke dalam interval, juga disebut bin. Seringkali, semua bin memiliki lebar yang sama, meskipun hal ini tidak harus terjadi. Nilai batas bawah dan atas bin disebut tepi bin. Frekuensi adalah nilai tunggal yang sesuai dengan setiap bin. Ini adalah jumlah elemen dataset dengan nilai di antara tepi bin."
   ]
  },
  {
   "cell_type": "markdown",
   "id": "584e7560",
   "metadata": {},
   "source": [
    "Fungsi np.histogram() adalah cara mudah untuk mendapatkan data untuk histogram:"
   ]
  },
  {
   "cell_type": "code",
   "execution_count": 177,
   "id": "fc99a983",
   "metadata": {},
   "outputs": [
    {
     "data": {
      "text/plain": [
       "array([  9,  20,  70, 146, 217, 239, 160,  86,  38,  15], dtype=int64)"
      ]
     },
     "execution_count": 177,
     "metadata": {},
     "output_type": "execute_result"
    }
   ],
   "source": [
    "hist, bin_edges = np.histogram(x, bins=10)\n",
    "hist "
   ]
  },
  {
   "cell_type": "code",
   "execution_count": 178,
   "id": "5300b723",
   "metadata": {},
   "outputs": [
    {
     "data": {
      "text/plain": [
       "array([-3.04614305, -2.46559324, -1.88504342, -1.3044936 , -0.72394379,\n",
       "       -0.14339397,  0.43715585,  1.01770566,  1.59825548,  2.1788053 ,\n",
       "        2.75935511])"
      ]
     },
     "execution_count": 178,
     "metadata": {},
     "output_type": "execute_result"
    }
   ],
   "source": [
    "bin_edges"
   ]
  },
  {
   "cell_type": "markdown",
   "id": "6d65047e",
   "metadata": {},
   "source": [
    "Dibutuhkan array dengan data Anda dan jumlah (atau tepi) tempat sampah dan mengembalikan dua array NumPy:\n",
    "\n",
    "hist berisi frekuensi atau jumlah item yang sesuai dengan setiap bin. bin_edges berisi tepi atau batas bin. Apa yang dihitung histogram(), .hist() dapat ditampilkan secara grafis:"
   ]
  },
  {
   "cell_type": "code",
   "execution_count": 179,
   "id": "630be298",
   "metadata": {},
   "outputs": [
    {
     "data": {
      "image/png": "[encoded data removed]",
      "text/plain": [
       "<Figure size 432x288 with 1 Axes>"
      ]
     },
     "metadata": {},
     "output_type": "display_data"
    }
   ],
   "source": [
    "fig, ax = plt.subplots()\n",
    "ax.hist(x, bin_edges, cumulative=False)\n",
    "ax.set_xlabel('x')\n",
    "ax.set_ylabel('Frequency')\n",
    "plt.show()"
   ]
  },
  {
   "cell_type": "markdown",
   "id": "3b8bb037",
   "metadata": {},
   "source": [
    "- Argumen pertama .hist() adalah urutan dengan data Anda. \n",
    "- Argumen kedua mendefinisikan tepi tempat sampah. \n",
    "- Yang ketiga menonaktifkan opsi untuk membuat histogram dengan nilai kumulatif."
   ]
  },
  {
   "cell_type": "markdown",
   "id": "2c6cf987",
   "metadata": {},
   "source": [
    "Kita dapat melihat tepi bin pada sumbu horizontal dan frekuensi pada sumbu vertikal.\n",
    "\n",
    "Dimungkinkan untuk mendapatkan histogram dengan jumlah item kumulatif jika Anda memberikan argumen kumulatif=True ke .hist():"
   ]
  },
  {
   "cell_type": "code",
   "execution_count": 180,
   "id": "5ed743c0",
   "metadata": {},
   "outputs": [
    {
     "data": {
      "image/png": "[encoded data removed]",
      "text/plain": [
       "<Figure size 432x288 with 1 Axes>"
      ]
     },
     "metadata": {},
     "output_type": "display_data"
    }
   ],
   "source": [
    "fig, ax = plt.subplots()\n",
    "ax.hist(x, bin_edges, cumulative=True)\n",
    "ax.set_xlabel('x')\n",
    "ax.set_ylabel('Frequency')\n",
    "plt.show()"
   ]
  },
  {
   "cell_type": "markdown",
   "id": "ba396ced",
   "metadata": {},
   "source": [
    "Ini menunjukkan histogram dengan nilai kumulatif. Frekuensi bin pertama dan paling kiri adalah jumlah item dalam bin ini. Frekuensi bin kedua adalah jumlah dari jumlah item di bin pertama dan kedua. bin lainnya mengikuti pola yang sama. Akhirnya, frekuensi bin terakhir dan paling kanan adalah jumlah total item dalam dataset (dalam hal ini, 1000). \n",
    "\n",
    "Anda juga dapat langsung menggambar histogram dengan pd.Series.hist() menggunakan matplotlib"
   ]
  },
  {
   "cell_type": "markdown",
   "id": "e65a7cfb",
   "metadata": {},
   "source": [
    "### Pie Charts"
   ]
  },
  {
   "cell_type": "markdown",
   "id": "2cfe0717",
   "metadata": {},
   "source": [
    "Diagram lingkaran mewakili data dengan sejumlah kecil label dan frekuensi relatif yang diberikan. Mereka bekerja dengan baik bahkan dengan label yang tidak dapat dipesan (seperti data nominal). Diagram lingkaran adalah lingkaran yang dibagi menjadi beberapa bagian. Setiap irisan sesuai dengan satu label berbeda dari kumpulan data dan memiliki luas yang sebanding dengan frekuensi relatif yang terkait dengan label tersebut."
   ]
  },
  {
   "cell_type": "code",
   "execution_count": 181,
   "id": "1670d60f",
   "metadata": {},
   "outputs": [],
   "source": [
    "# create a pie chart with .pie():\n",
    "x, y, z = 128, 256, 1024"
   ]
  },
  {
   "cell_type": "code",
   "execution_count": 182,
   "id": "f68ca45f",
   "metadata": {},
   "outputs": [
    {
     "data": {
      "image/png": "[encoded data removed]",
      "text/plain": [
       "<Figure size 432x288 with 1 Axes>"
      ]
     },
     "metadata": {},
     "output_type": "display_data"
    }
   ],
   "source": [
    "fig, ax = plt.subplots()\n",
    "ax.pie((x, y, z), labels=('x', 'y', 'z'), autopct='%1.1f%%')\n",
    "plt.show()"
   ]
  },
  {
   "cell_type": "markdown",
   "id": "098c8b76",
   "metadata": {},
   "source": [
    "- The first argument of .pie() is your data\n",
    "- The second is the sequence of the corresponding labels. \n",
    "- autopct defines the format of the relative frequencies shown on the figure."
   ]
  },
  {
   "cell_type": "markdown",
   "id": "18b6da1a",
   "metadata": {},
   "source": [
    "Pie Charts menunjukkan x sebagai bagian terkecil dari lingkaran, y sebagai bagian terbesar berikutnya, dan kemudian z sebagai bagian terbesar. Persentase menunjukkan ukuran relatif dari setiap nilai dibandingkan dengan jumlah mereka."
   ]
  },
  {
   "cell_type": "markdown",
   "id": "a976fb78",
   "metadata": {},
   "source": [
    "### Bar Charts"
   ]
  },
  {
   "cell_type": "markdown",
   "id": "a4838ba6",
   "metadata": {},
   "source": [
    "Diagram batang menunjukkan persegi panjang paralel yang disebut batang. Setiap batang sesuai dengan satu label dan memiliki tinggi yang sebanding dengan frekuensi atau frekuensi relatif labelnya. "
   ]
  },
  {
   "cell_type": "code",
   "execution_count": 183,
   "id": "98de9824",
   "metadata": {},
   "outputs": [],
   "source": [
    "x = np.arange(21) # bilangan bulat berurutan dari 0 hingga 20.\n",
    "y = np.random.randint(21, size=21) # bilangan bulat acak terdistribusi seragam, juga antara 0 dan 20\n",
    "err = np.random.randn(21) # angka floating-point terdistribusi normal, yang merupakan kesalahan"
   ]
  },
  {
   "cell_type": "markdown",
   "id": "b63a8cc8",
   "metadata": {},
   "source": [
    "Anda dapat membuat diagram batang dengan .bar() jika Anda menginginkan batang vertikal atau .barh() jika Anda ingin batang horizontal:"
   ]
  },
  {
   "cell_type": "code",
   "execution_count": 184,
   "id": "577f6342",
   "metadata": {},
   "outputs": [
    {
     "data": {
      "image/png": "[encoded data removed]",
      "text/plain": [
       "<Figure size 432x288 with 1 Axes>"
      ]
     },
     "metadata": {},
     "output_type": "display_data"
    }
   ],
   "source": [
    "fig, ax = plt.subplots()\n",
    "ax.bar(x, y, yerr=err)\n",
    "ax.set_xlabel('x')\n",
    "ax.set_ylabel('y')\n",
    "plt.show()"
   ]
  },
  {
   "cell_type": "markdown",
   "id": "b28ddb57",
   "metadata": {},
   "source": [
    "Ketinggian batang merah sesuai dengan frekuensi y, sedangkan panjang garis hitam menunjukkan kesalahan err. Jika Anda tidak ingin menyertakan kesalahan, hilangkan parameter yerr dari .bar()."
   ]
  },
  {
   "cell_type": "markdown",
   "id": "260a9114",
   "metadata": {},
   "source": [
    "### Plot X-Y"
   ]
  },
  {
   "cell_type": "markdown",
   "id": "3683a001",
   "metadata": {},
   "source": [
    "Plot xy atau plot sebar mewakili pasangan data dari dua kumpulan data. Sumbu x horizontal menunjukkan nilai dari himpunan x, sedangkan sumbu y vertikal menunjukkan nilai yang sesuai dari himpunan y.\n",
    "\n",
    "Kita dapat secara opsional memasukkan garis regresi dan koefisien korelasi. Mari buat dua kumpulan data dan lakukan regresi linier dengan scipy.stats.linregress():"
   ]
  },
  {
   "cell_type": "code",
   "execution_count": 185,
   "id": "769a5997",
   "metadata": {},
   "outputs": [
    {
     "name": "stdout",
     "output_type": "stream",
     "text": [
      "Regression line: y=5.49+2.02x, r=0.99\n"
     ]
    }
   ],
   "source": [
    "x = np.arange(21)\n",
    "y = 5 + 2 * x + 2 * np.random.randn(21)\n",
    "slope, intercept, r, *__ = scipy.stats.linregress(x, y)\n",
    "line = f'Regression line: y={intercept:.2f}+{slope:.2f}x, r={r:.2f}'\n",
    "print(line)"
   ]
  },
  {
   "cell_type": "markdown",
   "id": "ab79c2a1",
   "metadata": {},
   "source": [
    "Dataset x array dengan bilangan bulat dari 0 hingga 20. y dihitung sebagai fungsi linier dari x yang terdistorsi dengan beberapa random noise.\n",
    "\n",
    "linregress mengembalikan beberapa nilai. Kita akan membutuhkan kemiringan dan intersep dari garis regresi, serta koefisien korelasi r. Kemudian kita dapat menerapkan .plot() untuk mendapatkan plot xy:"
   ]
  },
  {
   "cell_type": "code",
   "execution_count": 186,
   "id": "9bfa25e1",
   "metadata": {},
   "outputs": [
    {
     "data": {
      "image/png": "[encoded data removed]",
      "text/plain": [
       "<Figure size 432x288 with 1 Axes>"
      ]
     },
     "metadata": {},
     "output_type": "display_data"
    }
   ],
   "source": [
    "fig, ax = plt.subplots()\n",
    "ax.plot(x, y, linewidth=0, marker='s', label='Data points')\n",
    "ax.plot(x, intercept + slope * x, label=line)\n",
    "ax.set_xlabel('x')\n",
    "ax.set_ylabel('y')\n",
    "ax.legend(facecolor='white')\n",
    "plt.show()"
   ]
  },
  {
   "cell_type": "markdown",
   "id": "15ac1b42",
   "metadata": {},
   "source": [
    "Kita dapat melihat titik data (pasangan xy) sebagai kotak merah, serta garis regresi biru."
   ]
  },
  {
   "cell_type": "markdown",
   "id": "53e943bd",
   "metadata": {},
   "source": [
    "### Heatmaps"
   ]
  },
  {
   "cell_type": "markdown",
   "id": "b28e457a",
   "metadata": {},
   "source": [
    "Heatmaps dapat digunakan untuk menampilkan matriks secara visual. Warna mewakili angka atau elemen matriks. Heatmaps sangat berguna untuk menggambarkan matriks kovarians dan korelasi. \n",
    "\n",
    "Kita dapat membuat Heatmaps untuk matriks kovarians dengan .imshow():"
   ]
  },
  {
   "cell_type": "code",
   "execution_count": 188,
   "id": "ddb8ecbf",
   "metadata": {},
   "outputs": [
    {
     "data": {
      "image/png": "[encoded data removed]",
      "text/plain": [
       "<Figure size 432x288 with 1 Axes>"
      ]
     },
     "metadata": {},
     "output_type": "display_data"
    }
   ],
   "source": [
    "matrix = np.cov(x, y).round(decimals=2)\n",
    "fig, ax = plt.subplots()\n",
    "ax.imshow(matrix)\n",
    "ax.grid(False)\n",
    "ax.xaxis.set(ticks=(0, 1), ticklabels=('x', 'y'))\n",
    "ax.yaxis.set(ticks=(0, 1), ticklabels=('x', 'y'))\n",
    "ax.set_ylim(1.5, -0.5)\n",
    "for i in range(2):    \n",
    "  for j in range(2):        \n",
    "    ax.text(j, i, matrix[i, j], ha='center', va='center', color='w')\n",
    "plt.show()"
   ]
  },
  {
   "cell_type": "markdown",
   "id": "d4c8e539",
   "metadata": {},
   "source": [
    "Bidang kuning mewakili elemen terbesar dari matriks 130.34, sedangkan bidang ungu sesuai dengan elemen terkecil 38.5. Kotak biru di antaranya terkait dengan nilai 69,9."
   ]
  },
  {
   "cell_type": "markdown",
   "id": "99569ffd",
   "metadata": {},
   "source": [
    "Kita dapat memperoleh peta panas untuk matriks koefisien korelasi mengikuti logika yang sama:"
   ]
  },
  {
   "cell_type": "code",
   "execution_count": 189,
   "id": "3a968673",
   "metadata": {},
   "outputs": [
    {
     "data": {
      "image/png": "[encoded data removed]",
      "text/plain": [
       "<Figure size 432x288 with 1 Axes>"
      ]
     },
     "metadata": {},
     "output_type": "display_data"
    }
   ],
   "source": [
    "matrix = np.corrcoef(x, y).round(decimals=2)\n",
    "fig, ax = plt.subplots()\n",
    "ax.imshow(matrix)\n",
    "ax.grid(False)\n",
    "ax.xaxis.set(ticks=(0, 1), ticklabels=('x', 'y'))\n",
    "ax.yaxis.set(ticks=(0, 1), ticklabels=('x', 'y'))\n",
    "ax.set_ylim(1.5, -0.5)\n",
    "for i in range(2):    \n",
    "  for j in range(2):        \n",
    "    ax.text(j, i, matrix[i, j], ha='center', va='center', color='w')\n",
    "plt.show()"
   ]
  },
  {
   "cell_type": "markdown",
   "id": "2fe03c41",
   "metadata": {},
   "source": [
    "The yellow color represents the value 1.0, and the purple color shows 0.99."
   ]
  },
  {
   "cell_type": "markdown",
   "id": "7866da85",
   "metadata": {},
   "source": [
    "## Visualisasi Data dengan Contoh Data"
   ]
  },
  {
   "cell_type": "code",
   "execution_count": 190,
   "id": "19259ac3",
   "metadata": {},
   "outputs": [],
   "source": [
    "import random \n",
    "import pandas as pd \n",
    "import seaborn as sns \n",
    "import matplotlib.pyplot as plt\n",
    "random.seed(101)\n",
    "data_gaji =[int(random.gauss(5000, 1000)) for num in range(1000)]\n",
    "dfGaji = pd.DataFrame(data_gaji, columns = ['Gaji ($)'])"
   ]
  },
  {
   "cell_type": "code",
   "execution_count": 191,
   "id": "a16dc348",
   "metadata": {},
   "outputs": [
    {
     "data": {
      "text/html": [
       "<div>\n",
       "<style scoped>\n",
       "    .dataframe tbody tr th:only-of-type {\n",
       "        vertical-align: middle;\n",
       "    }\n",
       "\n",
       "    .dataframe tbody tr th {\n",
       "        vertical-align: top;\n",
       "    }\n",
       "\n",
       "    .dataframe thead th {\n",
       "        text-align: right;\n",
       "    }\n",
       "</style>\n",
       "<table border=\"1\" class=\"dataframe\">\n",
       "  <thead>\n",
       "    <tr style=\"text-align: right;\">\n",
       "      <th></th>\n",
       "      <th>Gaji ($)</th>\n",
       "    </tr>\n",
       "  </thead>\n",
       "  <tbody>\n",
       "    <tr>\n",
       "      <th>0</th>\n",
       "      <td>4425</td>\n",
       "    </tr>\n",
       "    <tr>\n",
       "      <th>1</th>\n",
       "      <td>4678</td>\n",
       "    </tr>\n",
       "    <tr>\n",
       "      <th>2</th>\n",
       "      <td>7216</td>\n",
       "    </tr>\n",
       "    <tr>\n",
       "      <th>3</th>\n",
       "      <td>4508</td>\n",
       "    </tr>\n",
       "    <tr>\n",
       "      <th>4</th>\n",
       "      <td>3555</td>\n",
       "    </tr>\n",
       "  </tbody>\n",
       "</table>\n",
       "</div>"
      ],
      "text/plain": [
       "   Gaji ($)\n",
       "0      4425\n",
       "1      4678\n",
       "2      7216\n",
       "3      4508\n",
       "4      3555"
      ]
     },
     "execution_count": 191,
     "metadata": {},
     "output_type": "execute_result"
    }
   ],
   "source": [
    "dfGaji.head()"
   ]
  },
  {
   "cell_type": "code",
   "execution_count": 192,
   "id": "795341bc",
   "metadata": {},
   "outputs": [
    {
     "data": {
      "text/html": [
       "<div>\n",
       "<style scoped>\n",
       "    .dataframe tbody tr th:only-of-type {\n",
       "        vertical-align: middle;\n",
       "    }\n",
       "\n",
       "    .dataframe tbody tr th {\n",
       "        vertical-align: top;\n",
       "    }\n",
       "\n",
       "    .dataframe thead th {\n",
       "        text-align: right;\n",
       "    }\n",
       "</style>\n",
       "<table border=\"1\" class=\"dataframe\">\n",
       "  <thead>\n",
       "    <tr style=\"text-align: right;\">\n",
       "      <th></th>\n",
       "      <th>Gaji ($)</th>\n",
       "    </tr>\n",
       "  </thead>\n",
       "  <tbody>\n",
       "    <tr>\n",
       "      <th>count</th>\n",
       "      <td>1000.000000</td>\n",
       "    </tr>\n",
       "    <tr>\n",
       "      <th>mean</th>\n",
       "      <td>5024.404000</td>\n",
       "    </tr>\n",
       "    <tr>\n",
       "      <th>std</th>\n",
       "      <td>1034.981682</td>\n",
       "    </tr>\n",
       "    <tr>\n",
       "      <th>min</th>\n",
       "      <td>1573.000000</td>\n",
       "    </tr>\n",
       "    <tr>\n",
       "      <th>25%</th>\n",
       "      <td>4338.750000</td>\n",
       "    </tr>\n",
       "    <tr>\n",
       "      <th>50%</th>\n",
       "      <td>5060.000000</td>\n",
       "    </tr>\n",
       "    <tr>\n",
       "      <th>75%</th>\n",
       "      <td>5765.250000</td>\n",
       "    </tr>\n",
       "    <tr>\n",
       "      <th>max</th>\n",
       "      <td>8719.000000</td>\n",
       "    </tr>\n",
       "  </tbody>\n",
       "</table>\n",
       "</div>"
      ],
      "text/plain": [
       "          Gaji ($)\n",
       "count  1000.000000\n",
       "mean   5024.404000\n",
       "std    1034.981682\n",
       "min    1573.000000\n",
       "25%    4338.750000\n",
       "50%    5060.000000\n",
       "75%    5765.250000\n",
       "max    8719.000000"
      ]
     },
     "execution_count": 192,
     "metadata": {},
     "output_type": "execute_result"
    }
   ],
   "source": [
    "dfGaji.describe()"
   ]
  },
  {
   "cell_type": "markdown",
   "id": "46937251",
   "metadata": {},
   "source": [
    "plt.figure(figsize = (8,8))\n",
    "sns.boxplot(data_gaji)\n",
    "plt.title('Boxplot data gaji', fontsize = 20)\n",
    "\n",
    "plt.annotate('Q1', (np.percentile(data_gaji, 25), 0.4), xytext = (np.percentile(data_gaji, 25), 0.5),arrowprops = dict(facecolor = 'black'), fontsize = 12 )\n",
    "plt.annotate('Q2', (np.percentile(data_gaji, 50), 0.4), xytext = (np.percentile(data_gaji, 50), 0.5),arrowprops = dict(facecolor = 'black'), fontsize = 12 )\n",
    "plt.annotate('Q3', (np.percentile(data_gaji, 75), 0.4), xytext = (np.percentile(data_gaji, 75), 0.5),arrowprops = dict(facecolor = 'black'), fontsize = 12 )\n",
    "\n",
    "IQR = np.percentile(data_gaji, 75) - np.percentile(data_gaji, 25)\n",
    "batas_bawah = np.percentile(data_gaji, 25) - (1.5 * IQR)\n",
    "batas_atas =  np.percentile(data_gaji, 75) + (1.5 * IQR)\n",
    "\n",
    "plt.annotate('Batas bawah',(batas_bawah+50, 0.2), xytext = (batas_bawah, 0.35)\n",
    "             ,arrowprops = dict(facecolor = 'blue'), fontsize = 12 )\n",
    "plt.annotate('Batas atas', (batas_atas-100, 0.2), xytext = (batas_atas, 0.35),arrowprops = dict(facecolor = 'red'), fontsize = 12 )\n",
    "plt.annotate('Outlier', (min(data_gaji), 0.04), xytext = (min(data_gaji), 0.2),arrowprops = dict(facecolor = 'green'), fontsize = 12 )"
   ]
  },
  {
   "cell_type": "markdown",
   "id": "b29f35b2",
   "metadata": {},
   "source": [
    "Boxplot diatas menunjukkan bagaimana data kita tersebar. Dapat terlihat bahwa antara Q1 hingga Q3 (atau 50% data) tersebar hanya dia antara 4000an hingga 6000an dengan 50% data yang lain tersebar di luar dari itu. Dengan menggunakan metode IQR juga kita mampu mendapatkan batas bawah dan atas untuk membedakan data mana yang termasuk outlier (ditandakan dengan titik hitam).\n",
    "\n",
    "Selain itu, melalui standard deviation juga kita bisa melihat bahwa data kita tersebar sebesar $1034 dari mean. \n",
    "\n",
    "Dengan menggunakan Empirical rule sebelumnya, kita bisa memperkirakan persebaran data kita seperti gambar dibawah"
   ]
  },
  {
   "cell_type": "code",
   "execution_count": 194,
   "id": "dacdd90d",
   "metadata": {},
   "outputs": [
    {
     "name": "stderr",
     "output_type": "stream",
     "text": [
      "C:\\Users\\VivoBook\\anaconda3\\lib\\site-packages\\seaborn\\distributions.py:2557: FutureWarning: `distplot` is a deprecated function and will be removed in a future version. Please adapt your code to use either `displot` (a figure-level function with similar flexibility) or `histplot` (an axes-level function for histograms).\n",
      "  warnings.warn(msg, FutureWarning)\n"
     ]
    },
    {
     "data": {
      "text/plain": [
       "Text(8127.796184860947, 0.00045, '3 * STD')"
      ]
     },
     "execution_count": 194,
     "metadata": {},
     "output_type": "execute_result"
    },
    {
     "data": {
      "image/png": "[encoded data removed]",
      "text/plain": [
       "<Figure size 576x576 with 1 Axes>"
      ]
     },
     "metadata": {},
     "output_type": "display_data"
    }
   ],
   "source": [
    "plt.figure(figsize = (8,8))\n",
    "sns.distplot(data_gaji)\n",
    "\n",
    "plt.axvline(x = np.mean(data_gaji), ls = '--', c ='red')\n",
    "plt.axvline(x = np.mean(data_gaji) - np.std(data_gaji), ls = '--', c = 'blue')\n",
    "plt.axvline(x = np.mean(data_gaji) + np.std(data_gaji), ls = '--', c = 'blue')\n",
    "plt.axvline(x = np.mean(data_gaji) - 2*np.std(data_gaji), ls = '--', c = 'green')\n",
    "plt.axvline(x = np.mean(data_gaji) + 2*np.std(data_gaji), ls = '--', c = 'green')\n",
    "plt.axvline(x = np.mean(data_gaji) - 3*np.std(data_gaji), ls = '--', c = 'black')\n",
    "plt.axvline(x = np.mean(data_gaji) + 3*np.std(data_gaji), ls = '--', c = 'black')\n",
    "\n",
    "plt.annotate('Mean', (np.mean(data_gaji), 0.0004), xytext = (np.mean(data_gaji), 0.00045),arrowprops = dict(facecolor = 'red'), fontsize = 12 )\n",
    "plt.annotate('1 * STD', ((np.mean(data_gaji) - np.std(data_gaji)), 0.0004), xytext = ((np.mean(data_gaji) - np.std(data_gaji)), 0.00045),arrowprops = dict(facecolor = 'blue') )\n",
    "plt.annotate('1 * STD', ((np.mean(data_gaji) + np.std(data_gaji)), 0.0004), xytext = ((np.mean(data_gaji) + np.std(data_gaji)), 0.00045),arrowprops = dict(facecolor = 'blue') )\n",
    "plt.annotate('2 * STD', ((np.mean(data_gaji) - 2*np.std(data_gaji)), 0.0004),xytext = ((np.mean(data_gaji) - 2*np.std(data_gaji)), 0.00045),arrowprops = dict(facecolor = 'green') )\n",
    "plt.annotate('2 * STD', ((np.mean(data_gaji) + 2*np.std(data_gaji)), 0.0004), xytext = ((np.mean(data_gaji) + 2*np.std(data_gaji)), 0.00045),arrowprops = dict(facecolor = 'green') )\n",
    "plt.annotate('3 * STD', ((np.mean(data_gaji) - 3*np.std(data_gaji)), 0.0004),xytext = ((np.mean(data_gaji) - 3*np.std(data_gaji)), 0.00045),arrowprops = dict(facecolor = 'black') )\n",
    "plt.annotate('3 * STD', ((np.mean(data_gaji) + 3*np.std(data_gaji)), 0.0004),xytext = ((np.mean(data_gaji) + 3*np.std(data_gaji)), 0.00045),arrowprops = dict(facecolor = 'black') )"
   ]
  },
  {
   "cell_type": "markdown",
   "id": "4cf400e9",
   "metadata": {},
   "source": [
    "1STD adalah 68% data kita yang berada di antara mean ± 1 * Standard Deviation data, 2STD adalah 95% data kita yang berada di antara mean ± 2* Standard Deviation, dan 3*STD adalah 99.7% data kita yang berada di antara mean ± 3 * Standard Deviation sehingga kita menggangap bahwa data yang sudah melebihi dari 3 * STD sudah berada di posisi 0.3% yang terlalu jauh posisinya dibandingkan mean sehingga bisa dianggap sebagai outlier."
   ]
  }
 ],
 "metadata": {
  "kernelspec": {
   "display_name": "Python 3",
   "language": "python",
   "name": "python3"
  },
  "language_info": {
   "codemirror_mode": {
    "name": "ipython",
    "version": 3
   },
   "file_extension": ".py",
   "mimetype": "text/x-python",
   "name": "python",
   "nbconvert_exporter": "python",
   "pygments_lexer": "ipython3",
   "version": "3.8.8"
  }
 },
 "nbformat": 4,
 "nbformat_minor": 5
}
